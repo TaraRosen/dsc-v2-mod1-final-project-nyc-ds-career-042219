{
 "cells": [
  {
   "cell_type": "markdown",
   "metadata": {},
   "source": [
    "## Final Project Submission\n",
    "\n",
    "Please fill out:\n",
    "* Student name: Tara Rosen\n",
    "* Student pace: full time\n",
    "* Scheduled project review date/time: \n",
    "* Instructor name: FangFang Lee \n",
    "* Blog post URL:\n"
   ]
  },
  {
   "cell_type": "markdown",
   "metadata": {},
   "source": [
    "You'll clean, explore, and model this dataset with a multivariate linear regression to predict the sale price of houses as accurately as possible."
   ]
  },
  {
   "cell_type": "markdown",
   "metadata": {},
   "source": [
    "id                   Unique identifier for a house\n",
    "date                 Date house was sold\n",
    "price                Price is prediction target\n",
    "bedrooms             Number of Bedrooms/House\n",
    "bathrooms            Number of Bathrooms/Bedrooms\n",
    "sqft_living          Square Footage of the Home\n",
    "sqft_lot             Square Footage of the Lot\n",
    "floorsTotal          Floors (levels) in House\n",
    "waterfront           Waterfront view\n",
    "view                 Has Been Viewed\n",
    "condition            Overall Condition of Property\n",
    "grade                Overall Property Grade, Based on King County Grading System\n",
    "sqft_above           Above Grade Square Footage\n",
    "sqft_basement        Below Grade Square Footage\n",
    "yr_built             Year Built\n",
    "yr_renovated         Year Renovated\n",
    "zipcode              Zip Code\n",
    "lat                  Latitude Coordinate\n",
    "long                 Longitude Coordinate\n",
    "sqft_living15        Square Footage of interior housing living space for the nearest 15                            neighbors\n",
    "sqft_lot15           Square Footage of the land lots of the nearest 15 neighbors"
   ]
  },
  {
   "cell_type": "markdown",
   "metadata": {},
   "source": [
    "Import Libraries and Data"
   ]
  },
  {
   "cell_type": "code",
   "execution_count": 137,
   "metadata": {},
   "outputs": [],
   "source": [
    "import pandas as pd\n",
    "import statsmodels.api as sm\n",
    "from statsmodels.formula.api import ols\n",
    "import matplotlib.pyplot as plt\n",
    "%matplotlib inline\n",
    "import seaborn as sns\n",
    "plt.style.use('seaborn')"
   ]
  },
  {
   "cell_type": "code",
   "execution_count": 96,
   "metadata": {},
   "outputs": [],
   "source": [
    "housing_df = pd.read_csv('kc_house_data.csv') #imports dataset"
   ]
  },
  {
   "cell_type": "markdown",
   "metadata": {},
   "source": [
    "Initial Data Analysis"
   ]
  },
  {
   "cell_type": "markdown",
   "metadata": {},
   "source": [
    "price is our target variable"
   ]
  },
  {
   "cell_type": "code",
   "execution_count": 97,
   "metadata": {
    "scrolled": false
   },
   "outputs": [
    {
     "data": {
      "text/html": [
       "<div>\n",
       "<style scoped>\n",
       "    .dataframe tbody tr th:only-of-type {\n",
       "        vertical-align: middle;\n",
       "    }\n",
       "\n",
       "    .dataframe tbody tr th {\n",
       "        vertical-align: top;\n",
       "    }\n",
       "\n",
       "    .dataframe thead th {\n",
       "        text-align: right;\n",
       "    }\n",
       "</style>\n",
       "<table border=\"1\" class=\"dataframe\">\n",
       "  <thead>\n",
       "    <tr style=\"text-align: right;\">\n",
       "      <th></th>\n",
       "      <th>id</th>\n",
       "      <th>date</th>\n",
       "      <th>price</th>\n",
       "      <th>bedrooms</th>\n",
       "      <th>bathrooms</th>\n",
       "      <th>sqft_living</th>\n",
       "      <th>sqft_lot</th>\n",
       "      <th>floors</th>\n",
       "      <th>waterfront</th>\n",
       "      <th>view</th>\n",
       "      <th>...</th>\n",
       "      <th>grade</th>\n",
       "      <th>sqft_above</th>\n",
       "      <th>sqft_basement</th>\n",
       "      <th>yr_built</th>\n",
       "      <th>yr_renovated</th>\n",
       "      <th>zipcode</th>\n",
       "      <th>lat</th>\n",
       "      <th>long</th>\n",
       "      <th>sqft_living15</th>\n",
       "      <th>sqft_lot15</th>\n",
       "    </tr>\n",
       "  </thead>\n",
       "  <tbody>\n",
       "    <tr>\n",
       "      <th>0</th>\n",
       "      <td>7129300520</td>\n",
       "      <td>10/13/2014</td>\n",
       "      <td>221900.0</td>\n",
       "      <td>3</td>\n",
       "      <td>1.00</td>\n",
       "      <td>1180</td>\n",
       "      <td>5650</td>\n",
       "      <td>1.0</td>\n",
       "      <td>NaN</td>\n",
       "      <td>0.0</td>\n",
       "      <td>...</td>\n",
       "      <td>7</td>\n",
       "      <td>1180</td>\n",
       "      <td>0.0</td>\n",
       "      <td>1955</td>\n",
       "      <td>0.0</td>\n",
       "      <td>98178</td>\n",
       "      <td>47.5112</td>\n",
       "      <td>-122.257</td>\n",
       "      <td>1340</td>\n",
       "      <td>5650</td>\n",
       "    </tr>\n",
       "    <tr>\n",
       "      <th>1</th>\n",
       "      <td>6414100192</td>\n",
       "      <td>12/9/2014</td>\n",
       "      <td>538000.0</td>\n",
       "      <td>3</td>\n",
       "      <td>2.25</td>\n",
       "      <td>2570</td>\n",
       "      <td>7242</td>\n",
       "      <td>2.0</td>\n",
       "      <td>0.0</td>\n",
       "      <td>0.0</td>\n",
       "      <td>...</td>\n",
       "      <td>7</td>\n",
       "      <td>2170</td>\n",
       "      <td>400.0</td>\n",
       "      <td>1951</td>\n",
       "      <td>1991.0</td>\n",
       "      <td>98125</td>\n",
       "      <td>47.7210</td>\n",
       "      <td>-122.319</td>\n",
       "      <td>1690</td>\n",
       "      <td>7639</td>\n",
       "    </tr>\n",
       "    <tr>\n",
       "      <th>2</th>\n",
       "      <td>5631500400</td>\n",
       "      <td>2/25/2015</td>\n",
       "      <td>180000.0</td>\n",
       "      <td>2</td>\n",
       "      <td>1.00</td>\n",
       "      <td>770</td>\n",
       "      <td>10000</td>\n",
       "      <td>1.0</td>\n",
       "      <td>0.0</td>\n",
       "      <td>0.0</td>\n",
       "      <td>...</td>\n",
       "      <td>6</td>\n",
       "      <td>770</td>\n",
       "      <td>0.0</td>\n",
       "      <td>1933</td>\n",
       "      <td>NaN</td>\n",
       "      <td>98028</td>\n",
       "      <td>47.7379</td>\n",
       "      <td>-122.233</td>\n",
       "      <td>2720</td>\n",
       "      <td>8062</td>\n",
       "    </tr>\n",
       "    <tr>\n",
       "      <th>3</th>\n",
       "      <td>2487200875</td>\n",
       "      <td>12/9/2014</td>\n",
       "      <td>604000.0</td>\n",
       "      <td>4</td>\n",
       "      <td>3.00</td>\n",
       "      <td>1960</td>\n",
       "      <td>5000</td>\n",
       "      <td>1.0</td>\n",
       "      <td>0.0</td>\n",
       "      <td>0.0</td>\n",
       "      <td>...</td>\n",
       "      <td>7</td>\n",
       "      <td>1050</td>\n",
       "      <td>910.0</td>\n",
       "      <td>1965</td>\n",
       "      <td>0.0</td>\n",
       "      <td>98136</td>\n",
       "      <td>47.5208</td>\n",
       "      <td>-122.393</td>\n",
       "      <td>1360</td>\n",
       "      <td>5000</td>\n",
       "    </tr>\n",
       "    <tr>\n",
       "      <th>4</th>\n",
       "      <td>1954400510</td>\n",
       "      <td>2/18/2015</td>\n",
       "      <td>510000.0</td>\n",
       "      <td>3</td>\n",
       "      <td>2.00</td>\n",
       "      <td>1680</td>\n",
       "      <td>8080</td>\n",
       "      <td>1.0</td>\n",
       "      <td>0.0</td>\n",
       "      <td>0.0</td>\n",
       "      <td>...</td>\n",
       "      <td>8</td>\n",
       "      <td>1680</td>\n",
       "      <td>0.0</td>\n",
       "      <td>1987</td>\n",
       "      <td>0.0</td>\n",
       "      <td>98074</td>\n",
       "      <td>47.6168</td>\n",
       "      <td>-122.045</td>\n",
       "      <td>1800</td>\n",
       "      <td>7503</td>\n",
       "    </tr>\n",
       "    <tr>\n",
       "      <th>5</th>\n",
       "      <td>7237550310</td>\n",
       "      <td>5/12/2014</td>\n",
       "      <td>1230000.0</td>\n",
       "      <td>4</td>\n",
       "      <td>4.50</td>\n",
       "      <td>5420</td>\n",
       "      <td>101930</td>\n",
       "      <td>1.0</td>\n",
       "      <td>0.0</td>\n",
       "      <td>0.0</td>\n",
       "      <td>...</td>\n",
       "      <td>11</td>\n",
       "      <td>3890</td>\n",
       "      <td>1530.0</td>\n",
       "      <td>2001</td>\n",
       "      <td>0.0</td>\n",
       "      <td>98053</td>\n",
       "      <td>47.6561</td>\n",
       "      <td>-122.005</td>\n",
       "      <td>4760</td>\n",
       "      <td>101930</td>\n",
       "    </tr>\n",
       "    <tr>\n",
       "      <th>6</th>\n",
       "      <td>1321400060</td>\n",
       "      <td>6/27/2014</td>\n",
       "      <td>257500.0</td>\n",
       "      <td>3</td>\n",
       "      <td>2.25</td>\n",
       "      <td>1715</td>\n",
       "      <td>6819</td>\n",
       "      <td>2.0</td>\n",
       "      <td>0.0</td>\n",
       "      <td>0.0</td>\n",
       "      <td>...</td>\n",
       "      <td>7</td>\n",
       "      <td>1715</td>\n",
       "      <td>?</td>\n",
       "      <td>1995</td>\n",
       "      <td>0.0</td>\n",
       "      <td>98003</td>\n",
       "      <td>47.3097</td>\n",
       "      <td>-122.327</td>\n",
       "      <td>2238</td>\n",
       "      <td>6819</td>\n",
       "    </tr>\n",
       "    <tr>\n",
       "      <th>7</th>\n",
       "      <td>2008000270</td>\n",
       "      <td>1/15/2015</td>\n",
       "      <td>291850.0</td>\n",
       "      <td>3</td>\n",
       "      <td>1.50</td>\n",
       "      <td>1060</td>\n",
       "      <td>9711</td>\n",
       "      <td>1.0</td>\n",
       "      <td>0.0</td>\n",
       "      <td>NaN</td>\n",
       "      <td>...</td>\n",
       "      <td>7</td>\n",
       "      <td>1060</td>\n",
       "      <td>0.0</td>\n",
       "      <td>1963</td>\n",
       "      <td>0.0</td>\n",
       "      <td>98198</td>\n",
       "      <td>47.4095</td>\n",
       "      <td>-122.315</td>\n",
       "      <td>1650</td>\n",
       "      <td>9711</td>\n",
       "    </tr>\n",
       "    <tr>\n",
       "      <th>8</th>\n",
       "      <td>2414600126</td>\n",
       "      <td>4/15/2015</td>\n",
       "      <td>229500.0</td>\n",
       "      <td>3</td>\n",
       "      <td>1.00</td>\n",
       "      <td>1780</td>\n",
       "      <td>7470</td>\n",
       "      <td>1.0</td>\n",
       "      <td>0.0</td>\n",
       "      <td>0.0</td>\n",
       "      <td>...</td>\n",
       "      <td>7</td>\n",
       "      <td>1050</td>\n",
       "      <td>730.0</td>\n",
       "      <td>1960</td>\n",
       "      <td>0.0</td>\n",
       "      <td>98146</td>\n",
       "      <td>47.5123</td>\n",
       "      <td>-122.337</td>\n",
       "      <td>1780</td>\n",
       "      <td>8113</td>\n",
       "    </tr>\n",
       "    <tr>\n",
       "      <th>9</th>\n",
       "      <td>3793500160</td>\n",
       "      <td>3/12/2015</td>\n",
       "      <td>323000.0</td>\n",
       "      <td>3</td>\n",
       "      <td>2.50</td>\n",
       "      <td>1890</td>\n",
       "      <td>6560</td>\n",
       "      <td>2.0</td>\n",
       "      <td>0.0</td>\n",
       "      <td>0.0</td>\n",
       "      <td>...</td>\n",
       "      <td>7</td>\n",
       "      <td>1890</td>\n",
       "      <td>0.0</td>\n",
       "      <td>2003</td>\n",
       "      <td>0.0</td>\n",
       "      <td>98038</td>\n",
       "      <td>47.3684</td>\n",
       "      <td>-122.031</td>\n",
       "      <td>2390</td>\n",
       "      <td>7570</td>\n",
       "    </tr>\n",
       "  </tbody>\n",
       "</table>\n",
       "<p>10 rows × 21 columns</p>\n",
       "</div>"
      ],
      "text/plain": [
       "           id        date      price  bedrooms  bathrooms  sqft_living  \\\n",
       "0  7129300520  10/13/2014   221900.0         3       1.00         1180   \n",
       "1  6414100192   12/9/2014   538000.0         3       2.25         2570   \n",
       "2  5631500400   2/25/2015   180000.0         2       1.00          770   \n",
       "3  2487200875   12/9/2014   604000.0         4       3.00         1960   \n",
       "4  1954400510   2/18/2015   510000.0         3       2.00         1680   \n",
       "5  7237550310   5/12/2014  1230000.0         4       4.50         5420   \n",
       "6  1321400060   6/27/2014   257500.0         3       2.25         1715   \n",
       "7  2008000270   1/15/2015   291850.0         3       1.50         1060   \n",
       "8  2414600126   4/15/2015   229500.0         3       1.00         1780   \n",
       "9  3793500160   3/12/2015   323000.0         3       2.50         1890   \n",
       "\n",
       "   sqft_lot  floors  waterfront  view  ...  grade  sqft_above  sqft_basement  \\\n",
       "0      5650     1.0         NaN   0.0  ...      7        1180            0.0   \n",
       "1      7242     2.0         0.0   0.0  ...      7        2170          400.0   \n",
       "2     10000     1.0         0.0   0.0  ...      6         770            0.0   \n",
       "3      5000     1.0         0.0   0.0  ...      7        1050          910.0   \n",
       "4      8080     1.0         0.0   0.0  ...      8        1680            0.0   \n",
       "5    101930     1.0         0.0   0.0  ...     11        3890         1530.0   \n",
       "6      6819     2.0         0.0   0.0  ...      7        1715              ?   \n",
       "7      9711     1.0         0.0   NaN  ...      7        1060            0.0   \n",
       "8      7470     1.0         0.0   0.0  ...      7        1050          730.0   \n",
       "9      6560     2.0         0.0   0.0  ...      7        1890            0.0   \n",
       "\n",
       "  yr_built  yr_renovated  zipcode      lat     long  sqft_living15  sqft_lot15  \n",
       "0     1955           0.0    98178  47.5112 -122.257           1340        5650  \n",
       "1     1951        1991.0    98125  47.7210 -122.319           1690        7639  \n",
       "2     1933           NaN    98028  47.7379 -122.233           2720        8062  \n",
       "3     1965           0.0    98136  47.5208 -122.393           1360        5000  \n",
       "4     1987           0.0    98074  47.6168 -122.045           1800        7503  \n",
       "5     2001           0.0    98053  47.6561 -122.005           4760      101930  \n",
       "6     1995           0.0    98003  47.3097 -122.327           2238        6819  \n",
       "7     1963           0.0    98198  47.4095 -122.315           1650        9711  \n",
       "8     1960           0.0    98146  47.5123 -122.337           1780        8113  \n",
       "9     2003           0.0    98038  47.3684 -122.031           2390        7570  \n",
       "\n",
       "[10 rows x 21 columns]"
      ]
     },
     "execution_count": 97,
     "metadata": {},
     "output_type": "execute_result"
    }
   ],
   "source": [
    "housing_df.head(10) #look at the first five rows of data to see what we are dealing with"
   ]
  },
  {
   "cell_type": "code",
   "execution_count": 98,
   "metadata": {
    "scrolled": true
   },
   "outputs": [],
   "source": [
    "subset_df = housing_df.loc[housing_df['zipcode'] == 98103]"
   ]
  },
  {
   "cell_type": "markdown",
   "metadata": {},
   "source": [
    "Below I learn that there are 21 columns and their names, the datatypes of each column and that there are 602 entries (rows). \n",
    "\n",
    "I can also see that the columns 'waterfront', 'view' and 'yr_renovated' are missing data."
   ]
  },
  {
   "cell_type": "code",
   "execution_count": 99,
   "metadata": {
    "scrolled": true
   },
   "outputs": [
    {
     "name": "stdout",
     "output_type": "stream",
     "text": [
      "<class 'pandas.core.frame.DataFrame'>\n",
      "Int64Index: 602 entries, 17 to 21592\n",
      "Data columns (total 21 columns):\n",
      "id               602 non-null int64\n",
      "date             602 non-null object\n",
      "price            602 non-null float64\n",
      "bedrooms         602 non-null int64\n",
      "bathrooms        602 non-null float64\n",
      "sqft_living      602 non-null int64\n",
      "sqft_lot         602 non-null int64\n",
      "floors           602 non-null float64\n",
      "waterfront       540 non-null float64\n",
      "view             601 non-null float64\n",
      "condition        602 non-null int64\n",
      "grade            602 non-null int64\n",
      "sqft_above       602 non-null int64\n",
      "sqft_basement    602 non-null object\n",
      "yr_built         602 non-null int64\n",
      "yr_renovated     480 non-null float64\n",
      "zipcode          602 non-null int64\n",
      "lat              602 non-null float64\n",
      "long             602 non-null float64\n",
      "sqft_living15    602 non-null int64\n",
      "sqft_lot15       602 non-null int64\n",
      "dtypes: float64(8), int64(11), object(2)\n",
      "memory usage: 103.5+ KB\n"
     ]
    }
   ],
   "source": [
    "subset_df.info()"
   ]
  },
  {
   "cell_type": "markdown",
   "metadata": {},
   "source": [
    "Initial Cleaning"
   ]
  },
  {
   "cell_type": "markdown",
   "metadata": {},
   "source": [
    "Going to drop id, zipcode, latitude and longitude from dataset, not predictors at this point"
   ]
  },
  {
   "cell_type": "code",
   "execution_count": 100,
   "metadata": {},
   "outputs": [],
   "source": [
    "subset_df = subset_df.drop(['id', 'zipcode', 'lat', 'long'], axis = 1)"
   ]
  },
  {
   "cell_type": "code",
   "execution_count": 101,
   "metadata": {
    "scrolled": false
   },
   "outputs": [
    {
     "data": {
      "text/html": [
       "<div>\n",
       "<style scoped>\n",
       "    .dataframe tbody tr th:only-of-type {\n",
       "        vertical-align: middle;\n",
       "    }\n",
       "\n",
       "    .dataframe tbody tr th {\n",
       "        vertical-align: top;\n",
       "    }\n",
       "\n",
       "    .dataframe thead th {\n",
       "        text-align: right;\n",
       "    }\n",
       "</style>\n",
       "<table border=\"1\" class=\"dataframe\">\n",
       "  <thead>\n",
       "    <tr style=\"text-align: right;\">\n",
       "      <th></th>\n",
       "      <th>date</th>\n",
       "      <th>price</th>\n",
       "      <th>bedrooms</th>\n",
       "      <th>bathrooms</th>\n",
       "      <th>sqft_living</th>\n",
       "      <th>sqft_lot</th>\n",
       "      <th>floors</th>\n",
       "      <th>waterfront</th>\n",
       "      <th>view</th>\n",
       "      <th>condition</th>\n",
       "      <th>grade</th>\n",
       "      <th>sqft_above</th>\n",
       "      <th>sqft_basement</th>\n",
       "      <th>yr_built</th>\n",
       "      <th>yr_renovated</th>\n",
       "      <th>sqft_living15</th>\n",
       "      <th>sqft_lot15</th>\n",
       "    </tr>\n",
       "  </thead>\n",
       "  <tbody>\n",
       "    <tr>\n",
       "      <th>17</th>\n",
       "      <td>5/29/2014</td>\n",
       "      <td>485000.0</td>\n",
       "      <td>4</td>\n",
       "      <td>1.00</td>\n",
       "      <td>1600</td>\n",
       "      <td>4300</td>\n",
       "      <td>1.5</td>\n",
       "      <td>0.0</td>\n",
       "      <td>0.0</td>\n",
       "      <td>4</td>\n",
       "      <td>7</td>\n",
       "      <td>1600</td>\n",
       "      <td>0.0</td>\n",
       "      <td>1916</td>\n",
       "      <td>0.0</td>\n",
       "      <td>1610</td>\n",
       "      <td>4300</td>\n",
       "    </tr>\n",
       "    <tr>\n",
       "      <th>111</th>\n",
       "      <td>3/4/2015</td>\n",
       "      <td>570000.0</td>\n",
       "      <td>3</td>\n",
       "      <td>1.75</td>\n",
       "      <td>1260</td>\n",
       "      <td>3328</td>\n",
       "      <td>1.0</td>\n",
       "      <td>0.0</td>\n",
       "      <td>0.0</td>\n",
       "      <td>5</td>\n",
       "      <td>6</td>\n",
       "      <td>700</td>\n",
       "      <td>560.0</td>\n",
       "      <td>1905</td>\n",
       "      <td>0.0</td>\n",
       "      <td>1380</td>\n",
       "      <td>3536</td>\n",
       "    </tr>\n",
       "    <tr>\n",
       "      <th>116</th>\n",
       "      <td>6/26/2014</td>\n",
       "      <td>518500.0</td>\n",
       "      <td>3</td>\n",
       "      <td>3.50</td>\n",
       "      <td>1590</td>\n",
       "      <td>1102</td>\n",
       "      <td>3.0</td>\n",
       "      <td>0.0</td>\n",
       "      <td>0.0</td>\n",
       "      <td>3</td>\n",
       "      <td>8</td>\n",
       "      <td>1590</td>\n",
       "      <td>0.0</td>\n",
       "      <td>2010</td>\n",
       "      <td>0.0</td>\n",
       "      <td>1620</td>\n",
       "      <td>3166</td>\n",
       "    </tr>\n",
       "    <tr>\n",
       "      <th>128</th>\n",
       "      <td>6/13/2014</td>\n",
       "      <td>822500.0</td>\n",
       "      <td>5</td>\n",
       "      <td>3.50</td>\n",
       "      <td>2320</td>\n",
       "      <td>4960</td>\n",
       "      <td>2.0</td>\n",
       "      <td>0.0</td>\n",
       "      <td>0.0</td>\n",
       "      <td>5</td>\n",
       "      <td>7</td>\n",
       "      <td>1720</td>\n",
       "      <td>600.0</td>\n",
       "      <td>1926</td>\n",
       "      <td>NaN</td>\n",
       "      <td>1700</td>\n",
       "      <td>4960</td>\n",
       "    </tr>\n",
       "    <tr>\n",
       "      <th>149</th>\n",
       "      <td>11/4/2014</td>\n",
       "      <td>511000.0</td>\n",
       "      <td>3</td>\n",
       "      <td>1.00</td>\n",
       "      <td>1430</td>\n",
       "      <td>3455</td>\n",
       "      <td>1.0</td>\n",
       "      <td>0.0</td>\n",
       "      <td>0.0</td>\n",
       "      <td>3</td>\n",
       "      <td>7</td>\n",
       "      <td>980</td>\n",
       "      <td>450.0</td>\n",
       "      <td>1947</td>\n",
       "      <td>0.0</td>\n",
       "      <td>1450</td>\n",
       "      <td>4599</td>\n",
       "    </tr>\n",
       "  </tbody>\n",
       "</table>\n",
       "</div>"
      ],
      "text/plain": [
       "          date     price  bedrooms  bathrooms  sqft_living  sqft_lot  floors  \\\n",
       "17   5/29/2014  485000.0         4       1.00         1600      4300     1.5   \n",
       "111   3/4/2015  570000.0         3       1.75         1260      3328     1.0   \n",
       "116  6/26/2014  518500.0         3       3.50         1590      1102     3.0   \n",
       "128  6/13/2014  822500.0         5       3.50         2320      4960     2.0   \n",
       "149  11/4/2014  511000.0         3       1.00         1430      3455     1.0   \n",
       "\n",
       "     waterfront  view  condition  grade  sqft_above sqft_basement  yr_built  \\\n",
       "17          0.0   0.0          4      7        1600           0.0      1916   \n",
       "111         0.0   0.0          5      6         700         560.0      1905   \n",
       "116         0.0   0.0          3      8        1590           0.0      2010   \n",
       "128         0.0   0.0          5      7        1720         600.0      1926   \n",
       "149         0.0   0.0          3      7         980         450.0      1947   \n",
       "\n",
       "     yr_renovated  sqft_living15  sqft_lot15  \n",
       "17            0.0           1610        4300  \n",
       "111           0.0           1380        3536  \n",
       "116           0.0           1620        3166  \n",
       "128           NaN           1700        4960  \n",
       "149           0.0           1450        4599  "
      ]
     },
     "execution_count": 101,
     "metadata": {},
     "output_type": "execute_result"
    }
   ],
   "source": [
    "subset_df.head()"
   ]
  },
  {
   "cell_type": "code",
   "execution_count": 102,
   "metadata": {
    "scrolled": true
   },
   "outputs": [
    {
     "data": {
      "text/plain": [
       "date             False\n",
       "price            False\n",
       "bedrooms         False\n",
       "bathrooms        False\n",
       "sqft_living      False\n",
       "sqft_lot         False\n",
       "floors           False\n",
       "waterfront        True\n",
       "view              True\n",
       "condition        False\n",
       "grade            False\n",
       "sqft_above       False\n",
       "sqft_basement    False\n",
       "yr_built         False\n",
       "yr_renovated      True\n",
       "sqft_living15    False\n",
       "sqft_lot15       False\n",
       "dtype: bool"
      ]
     },
     "execution_count": 102,
     "metadata": {},
     "output_type": "execute_result"
    }
   ],
   "source": [
    "subset_df.isna().any()"
   ]
  },
  {
   "cell_type": "code",
   "execution_count": 103,
   "metadata": {},
   "outputs": [
    {
     "data": {
      "text/plain": [
       "62"
      ]
     },
     "execution_count": 103,
     "metadata": {},
     "output_type": "execute_result"
    }
   ],
   "source": [
    "subset_df.waterfront.isna().sum()"
   ]
  },
  {
   "cell_type": "code",
   "execution_count": 104,
   "metadata": {
    "scrolled": true
   },
   "outputs": [
    {
     "data": {
      "text/plain": [
       "array([ 0., nan])"
      ]
     },
     "execution_count": 104,
     "metadata": {},
     "output_type": "execute_result"
    }
   ],
   "source": [
    "subset_df.waterfront.unique()"
   ]
  },
  {
   "cell_type": "markdown",
   "metadata": {},
   "source": [
    "I'm going to drop waterfront since all of the known values are 0."
   ]
  },
  {
   "cell_type": "code",
   "execution_count": 105,
   "metadata": {},
   "outputs": [
    {
     "data": {
      "text/plain": [
       "1"
      ]
     },
     "execution_count": 105,
     "metadata": {},
     "output_type": "execute_result"
    }
   ],
   "source": [
    "subset_df.view.isna().sum()"
   ]
  },
  {
   "cell_type": "code",
   "execution_count": 106,
   "metadata": {},
   "outputs": [
    {
     "data": {
      "text/plain": [
       "array([ 0.,  2.,  3., nan,  4.])"
      ]
     },
     "execution_count": 106,
     "metadata": {},
     "output_type": "execute_result"
    }
   ],
   "source": [
    "subset_df.view.unique()"
   ]
  },
  {
   "cell_type": "markdown",
   "metadata": {},
   "source": [
    "I will drop the one row with the nan value."
   ]
  },
  {
   "cell_type": "code",
   "execution_count": 107,
   "metadata": {},
   "outputs": [
    {
     "data": {
      "text/plain": [
       "122"
      ]
     },
     "execution_count": 107,
     "metadata": {},
     "output_type": "execute_result"
    }
   ],
   "source": [
    "subset_df.yr_renovated.isna().sum()"
   ]
  },
  {
   "cell_type": "code",
   "execution_count": 108,
   "metadata": {
    "scrolled": true
   },
   "outputs": [
    {
     "data": {
      "text/plain": [
       "0.0       455\n",
       "2014.0      2\n",
       "2005.0      2\n",
       "2004.0      2\n",
       "1994.0      2\n",
       "1990.0      1\n",
       "1984.0      1\n",
       "1968.0      1\n",
       "1977.0      1\n",
       "1995.0      1\n",
       "1946.0      1\n",
       "2013.0      1\n",
       "1991.0      1\n",
       "1959.0      1\n",
       "2010.0      1\n",
       "1985.0      1\n",
       "1993.0      1\n",
       "2003.0      1\n",
       "1996.0      1\n",
       "2006.0      1\n",
       "2007.0      1\n",
       "1987.0      1\n",
       "Name: yr_renovated, dtype: int64"
      ]
     },
     "execution_count": 108,
     "metadata": {},
     "output_type": "execute_result"
    }
   ],
   "source": [
    "subset_df.yr_renovated.value_counts()"
   ]
  },
  {
   "cell_type": "markdown",
   "metadata": {},
   "source": [
    "With 455 values set at year 0 and 122 NaN values, I am going to drop this colummn."
   ]
  },
  {
   "cell_type": "code",
   "execution_count": 109,
   "metadata": {},
   "outputs": [],
   "source": [
    "subset_df = subset_df.drop(['waterfront', 'yr_renovated'], axis = 1)"
   ]
  },
  {
   "cell_type": "code",
   "execution_count": 110,
   "metadata": {},
   "outputs": [],
   "source": [
    "subset_df.dropna(inplace=True)"
   ]
  },
  {
   "cell_type": "code",
   "execution_count": 111,
   "metadata": {
    "scrolled": true
   },
   "outputs": [
    {
     "name": "stdout",
     "output_type": "stream",
     "text": [
      "<class 'pandas.core.frame.DataFrame'>\n",
      "Int64Index: 601 entries, 17 to 21592\n",
      "Data columns (total 15 columns):\n",
      "date             601 non-null object\n",
      "price            601 non-null float64\n",
      "bedrooms         601 non-null int64\n",
      "bathrooms        601 non-null float64\n",
      "sqft_living      601 non-null int64\n",
      "sqft_lot         601 non-null int64\n",
      "floors           601 non-null float64\n",
      "view             601 non-null float64\n",
      "condition        601 non-null int64\n",
      "grade            601 non-null int64\n",
      "sqft_above       601 non-null int64\n",
      "sqft_basement    601 non-null object\n",
      "yr_built         601 non-null int64\n",
      "sqft_living15    601 non-null int64\n",
      "sqft_lot15       601 non-null int64\n",
      "dtypes: float64(4), int64(9), object(2)\n",
      "memory usage: 75.1+ KB\n"
     ]
    }
   ],
   "source": [
    "subset_df.info()"
   ]
  },
  {
   "cell_type": "code",
   "execution_count": 112,
   "metadata": {},
   "outputs": [],
   "source": [
    "subset_df.price = subset_df.price.astype('int64')"
   ]
  },
  {
   "cell_type": "code",
   "execution_count": 113,
   "metadata": {},
   "outputs": [],
   "source": [
    "subset_df.floors = subset_df.floors.astype('int64')"
   ]
  },
  {
   "cell_type": "code",
   "execution_count": 114,
   "metadata": {},
   "outputs": [],
   "source": [
    "subset_df.view = subset_df.view.astype('int64')"
   ]
  },
  {
   "cell_type": "code",
   "execution_count": 115,
   "metadata": {
    "scrolled": true
   },
   "outputs": [
    {
     "ename": "ValueError",
     "evalue": "could not convert string to float: '?'",
     "output_type": "error",
     "traceback": [
      "\u001b[0;31m---------------------------------------------------------------------------\u001b[0m",
      "\u001b[0;31mValueError\u001b[0m                                Traceback (most recent call last)",
      "\u001b[0;32m<ipython-input-115-f0da3e420960>\u001b[0m in \u001b[0;36m<module>\u001b[0;34m\u001b[0m\n\u001b[0;32m----> 1\u001b[0;31m \u001b[0msubset_df\u001b[0m\u001b[0;34m.\u001b[0m\u001b[0msqft_basement\u001b[0m \u001b[0;34m=\u001b[0m \u001b[0msubset_df\u001b[0m\u001b[0;34m.\u001b[0m\u001b[0msqft_basement\u001b[0m\u001b[0;34m.\u001b[0m\u001b[0mastype\u001b[0m\u001b[0;34m(\u001b[0m\u001b[0;34m'float64'\u001b[0m\u001b[0;34m)\u001b[0m\u001b[0;34m\u001b[0m\u001b[0;34m\u001b[0m\u001b[0m\n\u001b[0m",
      "\u001b[0;32m/anaconda3/lib/python3.7/site-packages/pandas/core/generic.py\u001b[0m in \u001b[0;36mastype\u001b[0;34m(self, dtype, copy, errors, **kwargs)\u001b[0m\n\u001b[1;32m   5689\u001b[0m             \u001b[0;31m# else, only a single dtype is given\u001b[0m\u001b[0;34m\u001b[0m\u001b[0;34m\u001b[0m\u001b[0;34m\u001b[0m\u001b[0m\n\u001b[1;32m   5690\u001b[0m             new_data = self._data.astype(dtype=dtype, copy=copy, errors=errors,\n\u001b[0;32m-> 5691\u001b[0;31m                                          **kwargs)\n\u001b[0m\u001b[1;32m   5692\u001b[0m             \u001b[0;32mreturn\u001b[0m \u001b[0mself\u001b[0m\u001b[0;34m.\u001b[0m\u001b[0m_constructor\u001b[0m\u001b[0;34m(\u001b[0m\u001b[0mnew_data\u001b[0m\u001b[0;34m)\u001b[0m\u001b[0;34m.\u001b[0m\u001b[0m__finalize__\u001b[0m\u001b[0;34m(\u001b[0m\u001b[0mself\u001b[0m\u001b[0;34m)\u001b[0m\u001b[0;34m\u001b[0m\u001b[0;34m\u001b[0m\u001b[0m\n\u001b[1;32m   5693\u001b[0m \u001b[0;34m\u001b[0m\u001b[0m\n",
      "\u001b[0;32m/anaconda3/lib/python3.7/site-packages/pandas/core/internals/managers.py\u001b[0m in \u001b[0;36mastype\u001b[0;34m(self, dtype, **kwargs)\u001b[0m\n\u001b[1;32m    529\u001b[0m \u001b[0;34m\u001b[0m\u001b[0m\n\u001b[1;32m    530\u001b[0m     \u001b[0;32mdef\u001b[0m \u001b[0mastype\u001b[0m\u001b[0;34m(\u001b[0m\u001b[0mself\u001b[0m\u001b[0;34m,\u001b[0m \u001b[0mdtype\u001b[0m\u001b[0;34m,\u001b[0m \u001b[0;34m**\u001b[0m\u001b[0mkwargs\u001b[0m\u001b[0;34m)\u001b[0m\u001b[0;34m:\u001b[0m\u001b[0;34m\u001b[0m\u001b[0;34m\u001b[0m\u001b[0m\n\u001b[0;32m--> 531\u001b[0;31m         \u001b[0;32mreturn\u001b[0m \u001b[0mself\u001b[0m\u001b[0;34m.\u001b[0m\u001b[0mapply\u001b[0m\u001b[0;34m(\u001b[0m\u001b[0;34m'astype'\u001b[0m\u001b[0;34m,\u001b[0m \u001b[0mdtype\u001b[0m\u001b[0;34m=\u001b[0m\u001b[0mdtype\u001b[0m\u001b[0;34m,\u001b[0m \u001b[0;34m**\u001b[0m\u001b[0mkwargs\u001b[0m\u001b[0;34m)\u001b[0m\u001b[0;34m\u001b[0m\u001b[0;34m\u001b[0m\u001b[0m\n\u001b[0m\u001b[1;32m    532\u001b[0m \u001b[0;34m\u001b[0m\u001b[0m\n\u001b[1;32m    533\u001b[0m     \u001b[0;32mdef\u001b[0m \u001b[0mconvert\u001b[0m\u001b[0;34m(\u001b[0m\u001b[0mself\u001b[0m\u001b[0;34m,\u001b[0m \u001b[0;34m**\u001b[0m\u001b[0mkwargs\u001b[0m\u001b[0;34m)\u001b[0m\u001b[0;34m:\u001b[0m\u001b[0;34m\u001b[0m\u001b[0;34m\u001b[0m\u001b[0m\n",
      "\u001b[0;32m/anaconda3/lib/python3.7/site-packages/pandas/core/internals/managers.py\u001b[0m in \u001b[0;36mapply\u001b[0;34m(self, f, axes, filter, do_integrity_check, consolidate, **kwargs)\u001b[0m\n\u001b[1;32m    393\u001b[0m                                             copy=align_copy)\n\u001b[1;32m    394\u001b[0m \u001b[0;34m\u001b[0m\u001b[0m\n\u001b[0;32m--> 395\u001b[0;31m             \u001b[0mapplied\u001b[0m \u001b[0;34m=\u001b[0m \u001b[0mgetattr\u001b[0m\u001b[0;34m(\u001b[0m\u001b[0mb\u001b[0m\u001b[0;34m,\u001b[0m \u001b[0mf\u001b[0m\u001b[0;34m)\u001b[0m\u001b[0;34m(\u001b[0m\u001b[0;34m**\u001b[0m\u001b[0mkwargs\u001b[0m\u001b[0;34m)\u001b[0m\u001b[0;34m\u001b[0m\u001b[0;34m\u001b[0m\u001b[0m\n\u001b[0m\u001b[1;32m    396\u001b[0m             \u001b[0mresult_blocks\u001b[0m \u001b[0;34m=\u001b[0m \u001b[0m_extend_blocks\u001b[0m\u001b[0;34m(\u001b[0m\u001b[0mapplied\u001b[0m\u001b[0;34m,\u001b[0m \u001b[0mresult_blocks\u001b[0m\u001b[0;34m)\u001b[0m\u001b[0;34m\u001b[0m\u001b[0;34m\u001b[0m\u001b[0m\n\u001b[1;32m    397\u001b[0m \u001b[0;34m\u001b[0m\u001b[0m\n",
      "\u001b[0;32m/anaconda3/lib/python3.7/site-packages/pandas/core/internals/blocks.py\u001b[0m in \u001b[0;36mastype\u001b[0;34m(self, dtype, copy, errors, values, **kwargs)\u001b[0m\n\u001b[1;32m    532\u001b[0m     \u001b[0;32mdef\u001b[0m \u001b[0mastype\u001b[0m\u001b[0;34m(\u001b[0m\u001b[0mself\u001b[0m\u001b[0;34m,\u001b[0m \u001b[0mdtype\u001b[0m\u001b[0;34m,\u001b[0m \u001b[0mcopy\u001b[0m\u001b[0;34m=\u001b[0m\u001b[0;32mFalse\u001b[0m\u001b[0;34m,\u001b[0m \u001b[0merrors\u001b[0m\u001b[0;34m=\u001b[0m\u001b[0;34m'raise'\u001b[0m\u001b[0;34m,\u001b[0m \u001b[0mvalues\u001b[0m\u001b[0;34m=\u001b[0m\u001b[0;32mNone\u001b[0m\u001b[0;34m,\u001b[0m \u001b[0;34m**\u001b[0m\u001b[0mkwargs\u001b[0m\u001b[0;34m)\u001b[0m\u001b[0;34m:\u001b[0m\u001b[0;34m\u001b[0m\u001b[0;34m\u001b[0m\u001b[0m\n\u001b[1;32m    533\u001b[0m         return self._astype(dtype, copy=copy, errors=errors, values=values,\n\u001b[0;32m--> 534\u001b[0;31m                             **kwargs)\n\u001b[0m\u001b[1;32m    535\u001b[0m \u001b[0;34m\u001b[0m\u001b[0m\n\u001b[1;32m    536\u001b[0m     def _astype(self, dtype, copy=False, errors='raise', values=None,\n",
      "\u001b[0;32m/anaconda3/lib/python3.7/site-packages/pandas/core/internals/blocks.py\u001b[0m in \u001b[0;36m_astype\u001b[0;34m(self, dtype, copy, errors, values, **kwargs)\u001b[0m\n\u001b[1;32m    631\u001b[0m \u001b[0;34m\u001b[0m\u001b[0m\n\u001b[1;32m    632\u001b[0m                     \u001b[0;31m# _astype_nansafe works fine with 1-d only\u001b[0m\u001b[0;34m\u001b[0m\u001b[0;34m\u001b[0m\u001b[0;34m\u001b[0m\u001b[0m\n\u001b[0;32m--> 633\u001b[0;31m                     \u001b[0mvalues\u001b[0m \u001b[0;34m=\u001b[0m \u001b[0mastype_nansafe\u001b[0m\u001b[0;34m(\u001b[0m\u001b[0mvalues\u001b[0m\u001b[0;34m.\u001b[0m\u001b[0mravel\u001b[0m\u001b[0;34m(\u001b[0m\u001b[0;34m)\u001b[0m\u001b[0;34m,\u001b[0m \u001b[0mdtype\u001b[0m\u001b[0;34m,\u001b[0m \u001b[0mcopy\u001b[0m\u001b[0;34m=\u001b[0m\u001b[0;32mTrue\u001b[0m\u001b[0;34m)\u001b[0m\u001b[0;34m\u001b[0m\u001b[0;34m\u001b[0m\u001b[0m\n\u001b[0m\u001b[1;32m    634\u001b[0m \u001b[0;34m\u001b[0m\u001b[0m\n\u001b[1;32m    635\u001b[0m                 \u001b[0;31m# TODO(extension)\u001b[0m\u001b[0;34m\u001b[0m\u001b[0;34m\u001b[0m\u001b[0;34m\u001b[0m\u001b[0m\n",
      "\u001b[0;32m/anaconda3/lib/python3.7/site-packages/pandas/core/dtypes/cast.py\u001b[0m in \u001b[0;36mastype_nansafe\u001b[0;34m(arr, dtype, copy, skipna)\u001b[0m\n\u001b[1;32m    700\u001b[0m     \u001b[0;32mif\u001b[0m \u001b[0mcopy\u001b[0m \u001b[0;32mor\u001b[0m \u001b[0mis_object_dtype\u001b[0m\u001b[0;34m(\u001b[0m\u001b[0marr\u001b[0m\u001b[0;34m)\u001b[0m \u001b[0;32mor\u001b[0m \u001b[0mis_object_dtype\u001b[0m\u001b[0;34m(\u001b[0m\u001b[0mdtype\u001b[0m\u001b[0;34m)\u001b[0m\u001b[0;34m:\u001b[0m\u001b[0;34m\u001b[0m\u001b[0;34m\u001b[0m\u001b[0m\n\u001b[1;32m    701\u001b[0m         \u001b[0;31m# Explicit copy, or required since NumPy can't view from / to object.\u001b[0m\u001b[0;34m\u001b[0m\u001b[0;34m\u001b[0m\u001b[0;34m\u001b[0m\u001b[0m\n\u001b[0;32m--> 702\u001b[0;31m         \u001b[0;32mreturn\u001b[0m \u001b[0marr\u001b[0m\u001b[0;34m.\u001b[0m\u001b[0mastype\u001b[0m\u001b[0;34m(\u001b[0m\u001b[0mdtype\u001b[0m\u001b[0;34m,\u001b[0m \u001b[0mcopy\u001b[0m\u001b[0;34m=\u001b[0m\u001b[0;32mTrue\u001b[0m\u001b[0;34m)\u001b[0m\u001b[0;34m\u001b[0m\u001b[0;34m\u001b[0m\u001b[0m\n\u001b[0m\u001b[1;32m    703\u001b[0m \u001b[0;34m\u001b[0m\u001b[0m\n\u001b[1;32m    704\u001b[0m     \u001b[0;32mreturn\u001b[0m \u001b[0marr\u001b[0m\u001b[0;34m.\u001b[0m\u001b[0mview\u001b[0m\u001b[0;34m(\u001b[0m\u001b[0mdtype\u001b[0m\u001b[0;34m)\u001b[0m\u001b[0;34m\u001b[0m\u001b[0;34m\u001b[0m\u001b[0m\n",
      "\u001b[0;31mValueError\u001b[0m: could not convert string to float: '?'"
     ]
    }
   ],
   "source": [
    "subset_df.sqft_basement = subset_df.sqft_basement.astype('float64')"
   ]
  },
  {
   "cell_type": "markdown",
   "metadata": {},
   "source": [
    "when trying to change the dtype in sqft_basement from object to int64, I found that there were some questionable values listed as ?. If I were better at coding (and had more time to try), I would go through and set the ? to sqft_living - sqft_above. However, on a visual inspection it looks like those values would equal 0 so I am going to set the ? to 0.\n",
    "\n",
    "I don't understand why I can only convert this columnm to a float and not an integer."
   ]
  },
  {
   "cell_type": "code",
   "execution_count": 116,
   "metadata": {},
   "outputs": [
    {
     "data": {
      "text/plain": [
       "0.0      352\n",
       "?         14\n",
       "400.0     11\n",
       "500.0     10\n",
       "200.0     10\n",
       "Name: sqft_basement, dtype: int64"
      ]
     },
     "execution_count": 116,
     "metadata": {},
     "output_type": "execute_result"
    }
   ],
   "source": [
    "subset_df.sqft_basement.value_counts().head()"
   ]
  },
  {
   "cell_type": "code",
   "execution_count": 117,
   "metadata": {},
   "outputs": [],
   "source": [
    "subset_df['sqft_basement'] = subset_df.sqft_basement.replace('?', 0)  \n",
    "subset_df['sqft_basement'] = subset_df.sqft_basement.astype('float64')"
   ]
  },
  {
   "cell_type": "code",
   "execution_count": 118,
   "metadata": {
    "scrolled": true
   },
   "outputs": [
    {
     "name": "stdout",
     "output_type": "stream",
     "text": [
      "<class 'pandas.core.frame.DataFrame'>\n",
      "Int64Index: 601 entries, 17 to 21592\n",
      "Data columns (total 15 columns):\n",
      "date             601 non-null object\n",
      "price            601 non-null int64\n",
      "bedrooms         601 non-null int64\n",
      "bathrooms        601 non-null float64\n",
      "sqft_living      601 non-null int64\n",
      "sqft_lot         601 non-null int64\n",
      "floors           601 non-null int64\n",
      "view             601 non-null int64\n",
      "condition        601 non-null int64\n",
      "grade            601 non-null int64\n",
      "sqft_above       601 non-null int64\n",
      "sqft_basement    601 non-null float64\n",
      "yr_built         601 non-null int64\n",
      "sqft_living15    601 non-null int64\n",
      "sqft_lot15       601 non-null int64\n",
      "dtypes: float64(2), int64(12), object(1)\n",
      "memory usage: 75.1+ KB\n"
     ]
    }
   ],
   "source": [
    "subset_df.info()"
   ]
  },
  {
   "cell_type": "code",
   "execution_count": 119,
   "metadata": {},
   "outputs": [],
   "source": [
    "subset_df['date'] = pd.to_datetime(subset_df['date'])"
   ]
  },
  {
   "cell_type": "code",
   "execution_count": 120,
   "metadata": {
    "scrolled": true
   },
   "outputs": [
    {
     "name": "stdout",
     "output_type": "stream",
     "text": [
      "<class 'pandas.core.frame.DataFrame'>\n",
      "Int64Index: 601 entries, 17 to 21592\n",
      "Data columns (total 15 columns):\n",
      "date             601 non-null datetime64[ns]\n",
      "price            601 non-null int64\n",
      "bedrooms         601 non-null int64\n",
      "bathrooms        601 non-null float64\n",
      "sqft_living      601 non-null int64\n",
      "sqft_lot         601 non-null int64\n",
      "floors           601 non-null int64\n",
      "view             601 non-null int64\n",
      "condition        601 non-null int64\n",
      "grade            601 non-null int64\n",
      "sqft_above       601 non-null int64\n",
      "sqft_basement    601 non-null float64\n",
      "yr_built         601 non-null int64\n",
      "sqft_living15    601 non-null int64\n",
      "sqft_lot15       601 non-null int64\n",
      "dtypes: datetime64[ns](1), float64(2), int64(12)\n",
      "memory usage: 75.1 KB\n"
     ]
    }
   ],
   "source": [
    "subset_df.info()"
   ]
  },
  {
   "cell_type": "code",
   "execution_count": 121,
   "metadata": {
    "scrolled": true
   },
   "outputs": [
    {
     "data": {
      "text/html": [
       "<div>\n",
       "<style scoped>\n",
       "    .dataframe tbody tr th:only-of-type {\n",
       "        vertical-align: middle;\n",
       "    }\n",
       "\n",
       "    .dataframe tbody tr th {\n",
       "        vertical-align: top;\n",
       "    }\n",
       "\n",
       "    .dataframe thead th {\n",
       "        text-align: right;\n",
       "    }\n",
       "</style>\n",
       "<table border=\"1\" class=\"dataframe\">\n",
       "  <thead>\n",
       "    <tr style=\"text-align: right;\">\n",
       "      <th></th>\n",
       "      <th>date</th>\n",
       "      <th>price</th>\n",
       "      <th>bedrooms</th>\n",
       "      <th>bathrooms</th>\n",
       "      <th>sqft_living</th>\n",
       "      <th>sqft_lot</th>\n",
       "      <th>floors</th>\n",
       "      <th>view</th>\n",
       "      <th>condition</th>\n",
       "      <th>grade</th>\n",
       "      <th>sqft_above</th>\n",
       "      <th>sqft_basement</th>\n",
       "      <th>yr_built</th>\n",
       "      <th>sqft_living15</th>\n",
       "      <th>sqft_lot15</th>\n",
       "    </tr>\n",
       "  </thead>\n",
       "  <tbody>\n",
       "    <tr>\n",
       "      <th>17</th>\n",
       "      <td>2014-05-29</td>\n",
       "      <td>485000</td>\n",
       "      <td>4</td>\n",
       "      <td>1.00</td>\n",
       "      <td>1600</td>\n",
       "      <td>4300</td>\n",
       "      <td>1</td>\n",
       "      <td>0</td>\n",
       "      <td>4</td>\n",
       "      <td>7</td>\n",
       "      <td>1600</td>\n",
       "      <td>0.0</td>\n",
       "      <td>1916</td>\n",
       "      <td>1610</td>\n",
       "      <td>4300</td>\n",
       "    </tr>\n",
       "    <tr>\n",
       "      <th>111</th>\n",
       "      <td>2015-03-04</td>\n",
       "      <td>570000</td>\n",
       "      <td>3</td>\n",
       "      <td>1.75</td>\n",
       "      <td>1260</td>\n",
       "      <td>3328</td>\n",
       "      <td>1</td>\n",
       "      <td>0</td>\n",
       "      <td>5</td>\n",
       "      <td>6</td>\n",
       "      <td>700</td>\n",
       "      <td>560.0</td>\n",
       "      <td>1905</td>\n",
       "      <td>1380</td>\n",
       "      <td>3536</td>\n",
       "    </tr>\n",
       "    <tr>\n",
       "      <th>116</th>\n",
       "      <td>2014-06-26</td>\n",
       "      <td>518500</td>\n",
       "      <td>3</td>\n",
       "      <td>3.50</td>\n",
       "      <td>1590</td>\n",
       "      <td>1102</td>\n",
       "      <td>3</td>\n",
       "      <td>0</td>\n",
       "      <td>3</td>\n",
       "      <td>8</td>\n",
       "      <td>1590</td>\n",
       "      <td>0.0</td>\n",
       "      <td>2010</td>\n",
       "      <td>1620</td>\n",
       "      <td>3166</td>\n",
       "    </tr>\n",
       "    <tr>\n",
       "      <th>128</th>\n",
       "      <td>2014-06-13</td>\n",
       "      <td>822500</td>\n",
       "      <td>5</td>\n",
       "      <td>3.50</td>\n",
       "      <td>2320</td>\n",
       "      <td>4960</td>\n",
       "      <td>2</td>\n",
       "      <td>0</td>\n",
       "      <td>5</td>\n",
       "      <td>7</td>\n",
       "      <td>1720</td>\n",
       "      <td>600.0</td>\n",
       "      <td>1926</td>\n",
       "      <td>1700</td>\n",
       "      <td>4960</td>\n",
       "    </tr>\n",
       "    <tr>\n",
       "      <th>149</th>\n",
       "      <td>2014-11-04</td>\n",
       "      <td>511000</td>\n",
       "      <td>3</td>\n",
       "      <td>1.00</td>\n",
       "      <td>1430</td>\n",
       "      <td>3455</td>\n",
       "      <td>1</td>\n",
       "      <td>0</td>\n",
       "      <td>3</td>\n",
       "      <td>7</td>\n",
       "      <td>980</td>\n",
       "      <td>450.0</td>\n",
       "      <td>1947</td>\n",
       "      <td>1450</td>\n",
       "      <td>4599</td>\n",
       "    </tr>\n",
       "  </tbody>\n",
       "</table>\n",
       "</div>"
      ],
      "text/plain": [
       "          date   price  bedrooms  bathrooms  sqft_living  sqft_lot  floors  \\\n",
       "17  2014-05-29  485000         4       1.00         1600      4300       1   \n",
       "111 2015-03-04  570000         3       1.75         1260      3328       1   \n",
       "116 2014-06-26  518500         3       3.50         1590      1102       3   \n",
       "128 2014-06-13  822500         5       3.50         2320      4960       2   \n",
       "149 2014-11-04  511000         3       1.00         1430      3455       1   \n",
       "\n",
       "     view  condition  grade  sqft_above  sqft_basement  yr_built  \\\n",
       "17      0          4      7        1600            0.0      1916   \n",
       "111     0          5      6         700          560.0      1905   \n",
       "116     0          3      8        1590            0.0      2010   \n",
       "128     0          5      7        1720          600.0      1926   \n",
       "149     0          3      7         980          450.0      1947   \n",
       "\n",
       "     sqft_living15  sqft_lot15  \n",
       "17            1610        4300  \n",
       "111           1380        3536  \n",
       "116           1620        3166  \n",
       "128           1700        4960  \n",
       "149           1450        4599  "
      ]
     },
     "execution_count": 121,
     "metadata": {},
     "output_type": "execute_result"
    }
   ],
   "source": [
    "subset_df.head()"
   ]
  },
  {
   "cell_type": "code",
   "execution_count": 122,
   "metadata": {},
   "outputs": [],
   "source": [
    "subset_df = subset_df.reset_index()"
   ]
  },
  {
   "cell_type": "code",
   "execution_count": 123,
   "metadata": {
    "scrolled": true
   },
   "outputs": [
    {
     "data": {
      "text/html": [
       "<div>\n",
       "<style scoped>\n",
       "    .dataframe tbody tr th:only-of-type {\n",
       "        vertical-align: middle;\n",
       "    }\n",
       "\n",
       "    .dataframe tbody tr th {\n",
       "        vertical-align: top;\n",
       "    }\n",
       "\n",
       "    .dataframe thead th {\n",
       "        text-align: right;\n",
       "    }\n",
       "</style>\n",
       "<table border=\"1\" class=\"dataframe\">\n",
       "  <thead>\n",
       "    <tr style=\"text-align: right;\">\n",
       "      <th></th>\n",
       "      <th>index</th>\n",
       "      <th>date</th>\n",
       "      <th>price</th>\n",
       "      <th>bedrooms</th>\n",
       "      <th>bathrooms</th>\n",
       "      <th>sqft_living</th>\n",
       "      <th>sqft_lot</th>\n",
       "      <th>floors</th>\n",
       "      <th>view</th>\n",
       "      <th>condition</th>\n",
       "      <th>grade</th>\n",
       "      <th>sqft_above</th>\n",
       "      <th>sqft_basement</th>\n",
       "      <th>yr_built</th>\n",
       "      <th>sqft_living15</th>\n",
       "      <th>sqft_lot15</th>\n",
       "    </tr>\n",
       "  </thead>\n",
       "  <tbody>\n",
       "    <tr>\n",
       "      <th>0</th>\n",
       "      <td>17</td>\n",
       "      <td>2014-05-29</td>\n",
       "      <td>485000</td>\n",
       "      <td>4</td>\n",
       "      <td>1.00</td>\n",
       "      <td>1600</td>\n",
       "      <td>4300</td>\n",
       "      <td>1</td>\n",
       "      <td>0</td>\n",
       "      <td>4</td>\n",
       "      <td>7</td>\n",
       "      <td>1600</td>\n",
       "      <td>0.0</td>\n",
       "      <td>1916</td>\n",
       "      <td>1610</td>\n",
       "      <td>4300</td>\n",
       "    </tr>\n",
       "    <tr>\n",
       "      <th>1</th>\n",
       "      <td>111</td>\n",
       "      <td>2015-03-04</td>\n",
       "      <td>570000</td>\n",
       "      <td>3</td>\n",
       "      <td>1.75</td>\n",
       "      <td>1260</td>\n",
       "      <td>3328</td>\n",
       "      <td>1</td>\n",
       "      <td>0</td>\n",
       "      <td>5</td>\n",
       "      <td>6</td>\n",
       "      <td>700</td>\n",
       "      <td>560.0</td>\n",
       "      <td>1905</td>\n",
       "      <td>1380</td>\n",
       "      <td>3536</td>\n",
       "    </tr>\n",
       "    <tr>\n",
       "      <th>2</th>\n",
       "      <td>116</td>\n",
       "      <td>2014-06-26</td>\n",
       "      <td>518500</td>\n",
       "      <td>3</td>\n",
       "      <td>3.50</td>\n",
       "      <td>1590</td>\n",
       "      <td>1102</td>\n",
       "      <td>3</td>\n",
       "      <td>0</td>\n",
       "      <td>3</td>\n",
       "      <td>8</td>\n",
       "      <td>1590</td>\n",
       "      <td>0.0</td>\n",
       "      <td>2010</td>\n",
       "      <td>1620</td>\n",
       "      <td>3166</td>\n",
       "    </tr>\n",
       "    <tr>\n",
       "      <th>3</th>\n",
       "      <td>128</td>\n",
       "      <td>2014-06-13</td>\n",
       "      <td>822500</td>\n",
       "      <td>5</td>\n",
       "      <td>3.50</td>\n",
       "      <td>2320</td>\n",
       "      <td>4960</td>\n",
       "      <td>2</td>\n",
       "      <td>0</td>\n",
       "      <td>5</td>\n",
       "      <td>7</td>\n",
       "      <td>1720</td>\n",
       "      <td>600.0</td>\n",
       "      <td>1926</td>\n",
       "      <td>1700</td>\n",
       "      <td>4960</td>\n",
       "    </tr>\n",
       "    <tr>\n",
       "      <th>4</th>\n",
       "      <td>149</td>\n",
       "      <td>2014-11-04</td>\n",
       "      <td>511000</td>\n",
       "      <td>3</td>\n",
       "      <td>1.00</td>\n",
       "      <td>1430</td>\n",
       "      <td>3455</td>\n",
       "      <td>1</td>\n",
       "      <td>0</td>\n",
       "      <td>3</td>\n",
       "      <td>7</td>\n",
       "      <td>980</td>\n",
       "      <td>450.0</td>\n",
       "      <td>1947</td>\n",
       "      <td>1450</td>\n",
       "      <td>4599</td>\n",
       "    </tr>\n",
       "  </tbody>\n",
       "</table>\n",
       "</div>"
      ],
      "text/plain": [
       "   index       date   price  bedrooms  bathrooms  sqft_living  sqft_lot  \\\n",
       "0     17 2014-05-29  485000         4       1.00         1600      4300   \n",
       "1    111 2015-03-04  570000         3       1.75         1260      3328   \n",
       "2    116 2014-06-26  518500         3       3.50         1590      1102   \n",
       "3    128 2014-06-13  822500         5       3.50         2320      4960   \n",
       "4    149 2014-11-04  511000         3       1.00         1430      3455   \n",
       "\n",
       "   floors  view  condition  grade  sqft_above  sqft_basement  yr_built  \\\n",
       "0       1     0          4      7        1600            0.0      1916   \n",
       "1       1     0          5      6         700          560.0      1905   \n",
       "2       3     0          3      8        1590            0.0      2010   \n",
       "3       2     0          5      7        1720          600.0      1926   \n",
       "4       1     0          3      7         980          450.0      1947   \n",
       "\n",
       "   sqft_living15  sqft_lot15  \n",
       "0           1610        4300  \n",
       "1           1380        3536  \n",
       "2           1620        3166  \n",
       "3           1700        4960  \n",
       "4           1450        4599  "
      ]
     },
     "execution_count": 123,
     "metadata": {},
     "output_type": "execute_result"
    }
   ],
   "source": [
    "subset_df.head()"
   ]
  },
  {
   "cell_type": "code",
   "execution_count": 124,
   "metadata": {},
   "outputs": [],
   "source": [
    "subset_df = subset_df.drop(['index'], axis = 1)"
   ]
  },
  {
   "cell_type": "code",
   "execution_count": 125,
   "metadata": {
    "scrolled": true
   },
   "outputs": [
    {
     "data": {
      "text/html": [
       "<div>\n",
       "<style scoped>\n",
       "    .dataframe tbody tr th:only-of-type {\n",
       "        vertical-align: middle;\n",
       "    }\n",
       "\n",
       "    .dataframe tbody tr th {\n",
       "        vertical-align: top;\n",
       "    }\n",
       "\n",
       "    .dataframe thead th {\n",
       "        text-align: right;\n",
       "    }\n",
       "</style>\n",
       "<table border=\"1\" class=\"dataframe\">\n",
       "  <thead>\n",
       "    <tr style=\"text-align: right;\">\n",
       "      <th></th>\n",
       "      <th>date</th>\n",
       "      <th>price</th>\n",
       "      <th>bedrooms</th>\n",
       "      <th>bathrooms</th>\n",
       "      <th>sqft_living</th>\n",
       "      <th>sqft_lot</th>\n",
       "      <th>floors</th>\n",
       "      <th>view</th>\n",
       "      <th>condition</th>\n",
       "      <th>grade</th>\n",
       "      <th>sqft_above</th>\n",
       "      <th>sqft_basement</th>\n",
       "      <th>yr_built</th>\n",
       "      <th>sqft_living15</th>\n",
       "      <th>sqft_lot15</th>\n",
       "    </tr>\n",
       "  </thead>\n",
       "  <tbody>\n",
       "    <tr>\n",
       "      <th>0</th>\n",
       "      <td>2014-05-29</td>\n",
       "      <td>485000</td>\n",
       "      <td>4</td>\n",
       "      <td>1.00</td>\n",
       "      <td>1600</td>\n",
       "      <td>4300</td>\n",
       "      <td>1</td>\n",
       "      <td>0</td>\n",
       "      <td>4</td>\n",
       "      <td>7</td>\n",
       "      <td>1600</td>\n",
       "      <td>0.0</td>\n",
       "      <td>1916</td>\n",
       "      <td>1610</td>\n",
       "      <td>4300</td>\n",
       "    </tr>\n",
       "    <tr>\n",
       "      <th>1</th>\n",
       "      <td>2015-03-04</td>\n",
       "      <td>570000</td>\n",
       "      <td>3</td>\n",
       "      <td>1.75</td>\n",
       "      <td>1260</td>\n",
       "      <td>3328</td>\n",
       "      <td>1</td>\n",
       "      <td>0</td>\n",
       "      <td>5</td>\n",
       "      <td>6</td>\n",
       "      <td>700</td>\n",
       "      <td>560.0</td>\n",
       "      <td>1905</td>\n",
       "      <td>1380</td>\n",
       "      <td>3536</td>\n",
       "    </tr>\n",
       "    <tr>\n",
       "      <th>2</th>\n",
       "      <td>2014-06-26</td>\n",
       "      <td>518500</td>\n",
       "      <td>3</td>\n",
       "      <td>3.50</td>\n",
       "      <td>1590</td>\n",
       "      <td>1102</td>\n",
       "      <td>3</td>\n",
       "      <td>0</td>\n",
       "      <td>3</td>\n",
       "      <td>8</td>\n",
       "      <td>1590</td>\n",
       "      <td>0.0</td>\n",
       "      <td>2010</td>\n",
       "      <td>1620</td>\n",
       "      <td>3166</td>\n",
       "    </tr>\n",
       "    <tr>\n",
       "      <th>3</th>\n",
       "      <td>2014-06-13</td>\n",
       "      <td>822500</td>\n",
       "      <td>5</td>\n",
       "      <td>3.50</td>\n",
       "      <td>2320</td>\n",
       "      <td>4960</td>\n",
       "      <td>2</td>\n",
       "      <td>0</td>\n",
       "      <td>5</td>\n",
       "      <td>7</td>\n",
       "      <td>1720</td>\n",
       "      <td>600.0</td>\n",
       "      <td>1926</td>\n",
       "      <td>1700</td>\n",
       "      <td>4960</td>\n",
       "    </tr>\n",
       "    <tr>\n",
       "      <th>4</th>\n",
       "      <td>2014-11-04</td>\n",
       "      <td>511000</td>\n",
       "      <td>3</td>\n",
       "      <td>1.00</td>\n",
       "      <td>1430</td>\n",
       "      <td>3455</td>\n",
       "      <td>1</td>\n",
       "      <td>0</td>\n",
       "      <td>3</td>\n",
       "      <td>7</td>\n",
       "      <td>980</td>\n",
       "      <td>450.0</td>\n",
       "      <td>1947</td>\n",
       "      <td>1450</td>\n",
       "      <td>4599</td>\n",
       "    </tr>\n",
       "  </tbody>\n",
       "</table>\n",
       "</div>"
      ],
      "text/plain": [
       "        date   price  bedrooms  bathrooms  sqft_living  sqft_lot  floors  \\\n",
       "0 2014-05-29  485000         4       1.00         1600      4300       1   \n",
       "1 2015-03-04  570000         3       1.75         1260      3328       1   \n",
       "2 2014-06-26  518500         3       3.50         1590      1102       3   \n",
       "3 2014-06-13  822500         5       3.50         2320      4960       2   \n",
       "4 2014-11-04  511000         3       1.00         1430      3455       1   \n",
       "\n",
       "   view  condition  grade  sqft_above  sqft_basement  yr_built  sqft_living15  \\\n",
       "0     0          4      7        1600            0.0      1916           1610   \n",
       "1     0          5      6         700          560.0      1905           1380   \n",
       "2     0          3      8        1590            0.0      2010           1620   \n",
       "3     0          5      7        1720          600.0      1926           1700   \n",
       "4     0          3      7         980          450.0      1947           1450   \n",
       "\n",
       "   sqft_lot15  \n",
       "0        4300  \n",
       "1        3536  \n",
       "2        3166  \n",
       "3        4960  \n",
       "4        4599  "
      ]
     },
     "execution_count": 125,
     "metadata": {},
     "output_type": "execute_result"
    }
   ],
   "source": [
    "subset_df.head()"
   ]
  },
  {
   "cell_type": "code",
   "execution_count": 126,
   "metadata": {},
   "outputs": [
    {
     "data": {
      "text/html": [
       "<div>\n",
       "<style scoped>\n",
       "    .dataframe tbody tr th:only-of-type {\n",
       "        vertical-align: middle;\n",
       "    }\n",
       "\n",
       "    .dataframe tbody tr th {\n",
       "        vertical-align: top;\n",
       "    }\n",
       "\n",
       "    .dataframe thead th {\n",
       "        text-align: right;\n",
       "    }\n",
       "</style>\n",
       "<table border=\"1\" class=\"dataframe\">\n",
       "  <thead>\n",
       "    <tr style=\"text-align: right;\">\n",
       "      <th></th>\n",
       "      <th>price</th>\n",
       "      <th>bedrooms</th>\n",
       "      <th>bathrooms</th>\n",
       "      <th>sqft_living</th>\n",
       "      <th>sqft_lot</th>\n",
       "      <th>floors</th>\n",
       "      <th>view</th>\n",
       "      <th>condition</th>\n",
       "      <th>grade</th>\n",
       "      <th>sqft_above</th>\n",
       "      <th>sqft_basement</th>\n",
       "      <th>yr_built</th>\n",
       "      <th>sqft_living15</th>\n",
       "      <th>sqft_lot15</th>\n",
       "    </tr>\n",
       "  </thead>\n",
       "  <tbody>\n",
       "    <tr>\n",
       "      <th>count</th>\n",
       "      <td>6.010000e+02</td>\n",
       "      <td>601.000000</td>\n",
       "      <td>601.000000</td>\n",
       "      <td>601.000000</td>\n",
       "      <td>601.000000</td>\n",
       "      <td>601.000000</td>\n",
       "      <td>601.000000</td>\n",
       "      <td>601.000000</td>\n",
       "      <td>601.000000</td>\n",
       "      <td>601.000000</td>\n",
       "      <td>601.000000</td>\n",
       "      <td>601.000000</td>\n",
       "      <td>601.000000</td>\n",
       "      <td>601.000000</td>\n",
       "    </tr>\n",
       "    <tr>\n",
       "      <th>mean</th>\n",
       "      <td>5.852735e+05</td>\n",
       "      <td>3.061564</td>\n",
       "      <td>1.935108</td>\n",
       "      <td>1651.497504</td>\n",
       "      <td>3483.430948</td>\n",
       "      <td>1.703827</td>\n",
       "      <td>0.144759</td>\n",
       "      <td>3.482529</td>\n",
       "      <td>7.410982</td>\n",
       "      <td>1406.068220</td>\n",
       "      <td>239.572379</td>\n",
       "      <td>1953.144759</td>\n",
       "      <td>1524.193012</td>\n",
       "      <td>3472.735441</td>\n",
       "    </tr>\n",
       "    <tr>\n",
       "      <th>std</th>\n",
       "      <td>2.094627e+05</td>\n",
       "      <td>1.556022</td>\n",
       "      <td>0.795266</td>\n",
       "      <td>632.069519</td>\n",
       "      <td>1833.375601</td>\n",
       "      <td>0.859536</td>\n",
       "      <td>0.606089</td>\n",
       "      <td>0.737187</td>\n",
       "      <td>0.763203</td>\n",
       "      <td>487.058614</td>\n",
       "      <td>364.485613</td>\n",
       "      <td>41.551703</td>\n",
       "      <td>283.867720</td>\n",
       "      <td>1573.195677</td>\n",
       "    </tr>\n",
       "    <tr>\n",
       "      <th>min</th>\n",
       "      <td>2.380000e+05</td>\n",
       "      <td>1.000000</td>\n",
       "      <td>0.750000</td>\n",
       "      <td>390.000000</td>\n",
       "      <td>651.000000</td>\n",
       "      <td>1.000000</td>\n",
       "      <td>0.000000</td>\n",
       "      <td>1.000000</td>\n",
       "      <td>5.000000</td>\n",
       "      <td>390.000000</td>\n",
       "      <td>0.000000</td>\n",
       "      <td>1900.000000</td>\n",
       "      <td>690.000000</td>\n",
       "      <td>1026.000000</td>\n",
       "    </tr>\n",
       "    <tr>\n",
       "      <th>25%</th>\n",
       "      <td>4.320000e+05</td>\n",
       "      <td>2.000000</td>\n",
       "      <td>1.000000</td>\n",
       "      <td>1240.000000</td>\n",
       "      <td>1561.000000</td>\n",
       "      <td>1.000000</td>\n",
       "      <td>0.000000</td>\n",
       "      <td>3.000000</td>\n",
       "      <td>7.000000</td>\n",
       "      <td>1070.000000</td>\n",
       "      <td>0.000000</td>\n",
       "      <td>1917.000000</td>\n",
       "      <td>1330.000000</td>\n",
       "      <td>1605.000000</td>\n",
       "    </tr>\n",
       "    <tr>\n",
       "      <th>50%</th>\n",
       "      <td>5.500000e+05</td>\n",
       "      <td>3.000000</td>\n",
       "      <td>2.000000</td>\n",
       "      <td>1510.000000</td>\n",
       "      <td>3500.000000</td>\n",
       "      <td>1.000000</td>\n",
       "      <td>0.000000</td>\n",
       "      <td>3.000000</td>\n",
       "      <td>7.000000</td>\n",
       "      <td>1370.000000</td>\n",
       "      <td>0.000000</td>\n",
       "      <td>1935.000000</td>\n",
       "      <td>1500.000000</td>\n",
       "      <td>3850.000000</td>\n",
       "    </tr>\n",
       "    <tr>\n",
       "      <th>75%</th>\n",
       "      <td>6.950000e+05</td>\n",
       "      <td>3.000000</td>\n",
       "      <td>2.500000</td>\n",
       "      <td>1960.000000</td>\n",
       "      <td>4800.000000</td>\n",
       "      <td>3.000000</td>\n",
       "      <td>0.000000</td>\n",
       "      <td>4.000000</td>\n",
       "      <td>8.000000</td>\n",
       "      <td>1604.000000</td>\n",
       "      <td>450.000000</td>\n",
       "      <td>2005.000000</td>\n",
       "      <td>1700.000000</td>\n",
       "      <td>4560.000000</td>\n",
       "    </tr>\n",
       "    <tr>\n",
       "      <th>max</th>\n",
       "      <td>1.700000e+06</td>\n",
       "      <td>33.000000</td>\n",
       "      <td>4.500000</td>\n",
       "      <td>4360.000000</td>\n",
       "      <td>9450.000000</td>\n",
       "      <td>3.000000</td>\n",
       "      <td>4.000000</td>\n",
       "      <td>5.000000</td>\n",
       "      <td>11.000000</td>\n",
       "      <td>3920.000000</td>\n",
       "      <td>1540.000000</td>\n",
       "      <td>2015.000000</td>\n",
       "      <td>2660.000000</td>\n",
       "      <td>8431.000000</td>\n",
       "    </tr>\n",
       "  </tbody>\n",
       "</table>\n",
       "</div>"
      ],
      "text/plain": [
       "              price    bedrooms   bathrooms  sqft_living     sqft_lot  \\\n",
       "count  6.010000e+02  601.000000  601.000000   601.000000   601.000000   \n",
       "mean   5.852735e+05    3.061564    1.935108  1651.497504  3483.430948   \n",
       "std    2.094627e+05    1.556022    0.795266   632.069519  1833.375601   \n",
       "min    2.380000e+05    1.000000    0.750000   390.000000   651.000000   \n",
       "25%    4.320000e+05    2.000000    1.000000  1240.000000  1561.000000   \n",
       "50%    5.500000e+05    3.000000    2.000000  1510.000000  3500.000000   \n",
       "75%    6.950000e+05    3.000000    2.500000  1960.000000  4800.000000   \n",
       "max    1.700000e+06   33.000000    4.500000  4360.000000  9450.000000   \n",
       "\n",
       "           floors        view   condition       grade   sqft_above  \\\n",
       "count  601.000000  601.000000  601.000000  601.000000   601.000000   \n",
       "mean     1.703827    0.144759    3.482529    7.410982  1406.068220   \n",
       "std      0.859536    0.606089    0.737187    0.763203   487.058614   \n",
       "min      1.000000    0.000000    1.000000    5.000000   390.000000   \n",
       "25%      1.000000    0.000000    3.000000    7.000000  1070.000000   \n",
       "50%      1.000000    0.000000    3.000000    7.000000  1370.000000   \n",
       "75%      3.000000    0.000000    4.000000    8.000000  1604.000000   \n",
       "max      3.000000    4.000000    5.000000   11.000000  3920.000000   \n",
       "\n",
       "       sqft_basement     yr_built  sqft_living15   sqft_lot15  \n",
       "count     601.000000   601.000000     601.000000   601.000000  \n",
       "mean      239.572379  1953.144759    1524.193012  3472.735441  \n",
       "std       364.485613    41.551703     283.867720  1573.195677  \n",
       "min         0.000000  1900.000000     690.000000  1026.000000  \n",
       "25%         0.000000  1917.000000    1330.000000  1605.000000  \n",
       "50%         0.000000  1935.000000    1500.000000  3850.000000  \n",
       "75%       450.000000  2005.000000    1700.000000  4560.000000  \n",
       "max      1540.000000  2015.000000    2660.000000  8431.000000  "
      ]
     },
     "execution_count": 126,
     "metadata": {},
     "output_type": "execute_result"
    }
   ],
   "source": [
    "subset_df.describe()"
   ]
  },
  {
   "cell_type": "markdown",
   "metadata": {},
   "source": [
    "Did I take care of all our NaN values? Looks like I did."
   ]
  },
  {
   "cell_type": "code",
   "execution_count": 127,
   "metadata": {
    "scrolled": true
   },
   "outputs": [
    {
     "data": {
      "text/plain": [
       "date             0\n",
       "price            0\n",
       "bedrooms         0\n",
       "bathrooms        0\n",
       "sqft_living      0\n",
       "sqft_lot         0\n",
       "floors           0\n",
       "view             0\n",
       "condition        0\n",
       "grade            0\n",
       "sqft_above       0\n",
       "sqft_basement    0\n",
       "yr_built         0\n",
       "sqft_living15    0\n",
       "sqft_lot15       0\n",
       "dtype: int64"
      ]
     },
     "execution_count": 127,
     "metadata": {},
     "output_type": "execute_result"
    }
   ],
   "source": [
    "subset_df.isna().sum()"
   ]
  },
  {
   "cell_type": "markdown",
   "metadata": {},
   "source": [
    "Checking for Outliers"
   ]
  },
  {
   "cell_type": "code",
   "execution_count": 128,
   "metadata": {
    "scrolled": true
   },
   "outputs": [
    {
     "data": {
      "text/plain": [
       "<matplotlib.axes._subplots.AxesSubplot at 0x1a25464da0>"
      ]
     },
     "execution_count": 128,
     "metadata": {},
     "output_type": "execute_result"
    },
    {
     "data": {
      "image/png": "[encoded data removed]",
      "text/plain": [
       "<Figure size 432x288 with 1 Axes>"
      ]
     },
     "metadata": {
      "needs_background": "light"
     },
     "output_type": "display_data"
    }
   ],
   "source": [
    "sns.boxplot(x=subset_df['price'])"
   ]
  },
  {
   "cell_type": "code",
   "execution_count": 129,
   "metadata": {},
   "outputs": [
    {
     "data": {
      "text/html": [
       "<div>\n",
       "<style scoped>\n",
       "    .dataframe tbody tr th:only-of-type {\n",
       "        vertical-align: middle;\n",
       "    }\n",
       "\n",
       "    .dataframe tbody tr th {\n",
       "        vertical-align: top;\n",
       "    }\n",
       "\n",
       "    .dataframe thead th {\n",
       "        text-align: right;\n",
       "    }\n",
       "</style>\n",
       "<table border=\"1\" class=\"dataframe\">\n",
       "  <thead>\n",
       "    <tr style=\"text-align: right;\">\n",
       "      <th></th>\n",
       "      <th>date</th>\n",
       "      <th>price</th>\n",
       "      <th>bedrooms</th>\n",
       "      <th>bathrooms</th>\n",
       "      <th>sqft_living</th>\n",
       "      <th>sqft_lot</th>\n",
       "      <th>floors</th>\n",
       "      <th>view</th>\n",
       "      <th>condition</th>\n",
       "      <th>grade</th>\n",
       "      <th>sqft_above</th>\n",
       "      <th>sqft_basement</th>\n",
       "      <th>yr_built</th>\n",
       "      <th>sqft_living15</th>\n",
       "      <th>sqft_lot15</th>\n",
       "    </tr>\n",
       "  </thead>\n",
       "  <tbody>\n",
       "    <tr>\n",
       "      <th>50</th>\n",
       "      <td>2014-06-13</td>\n",
       "      <td>1130000</td>\n",
       "      <td>6</td>\n",
       "      <td>3.75</td>\n",
       "      <td>3010</td>\n",
       "      <td>4360</td>\n",
       "      <td>2</td>\n",
       "      <td>0</td>\n",
       "      <td>3</td>\n",
       "      <td>9</td>\n",
       "      <td>2000</td>\n",
       "      <td>1010.0</td>\n",
       "      <td>2014</td>\n",
       "      <td>1600</td>\n",
       "      <td>5160</td>\n",
       "    </tr>\n",
       "    <tr>\n",
       "      <th>135</th>\n",
       "      <td>2015-03-25</td>\n",
       "      <td>1170000</td>\n",
       "      <td>4</td>\n",
       "      <td>3.75</td>\n",
       "      <td>3920</td>\n",
       "      <td>4500</td>\n",
       "      <td>3</td>\n",
       "      <td>0</td>\n",
       "      <td>3</td>\n",
       "      <td>8</td>\n",
       "      <td>3920</td>\n",
       "      <td>0.0</td>\n",
       "      <td>2013</td>\n",
       "      <td>2040</td>\n",
       "      <td>3000</td>\n",
       "    </tr>\n",
       "    <tr>\n",
       "      <th>141</th>\n",
       "      <td>2014-07-01</td>\n",
       "      <td>1300000</td>\n",
       "      <td>6</td>\n",
       "      <td>2.75</td>\n",
       "      <td>2630</td>\n",
       "      <td>9420</td>\n",
       "      <td>2</td>\n",
       "      <td>0</td>\n",
       "      <td>5</td>\n",
       "      <td>9</td>\n",
       "      <td>2510</td>\n",
       "      <td>120.0</td>\n",
       "      <td>1900</td>\n",
       "      <td>1540</td>\n",
       "      <td>4969</td>\n",
       "    </tr>\n",
       "    <tr>\n",
       "      <th>144</th>\n",
       "      <td>2014-05-12</td>\n",
       "      <td>1320000</td>\n",
       "      <td>4</td>\n",
       "      <td>3.50</td>\n",
       "      <td>3460</td>\n",
       "      <td>3997</td>\n",
       "      <td>2</td>\n",
       "      <td>0</td>\n",
       "      <td>3</td>\n",
       "      <td>10</td>\n",
       "      <td>2560</td>\n",
       "      <td>900.0</td>\n",
       "      <td>2004</td>\n",
       "      <td>1860</td>\n",
       "      <td>4000</td>\n",
       "    </tr>\n",
       "    <tr>\n",
       "      <th>168</th>\n",
       "      <td>2015-05-14</td>\n",
       "      <td>1700000</td>\n",
       "      <td>5</td>\n",
       "      <td>3.00</td>\n",
       "      <td>3320</td>\n",
       "      <td>5354</td>\n",
       "      <td>2</td>\n",
       "      <td>0</td>\n",
       "      <td>3</td>\n",
       "      <td>9</td>\n",
       "      <td>3320</td>\n",
       "      <td>0.0</td>\n",
       "      <td>2004</td>\n",
       "      <td>2330</td>\n",
       "      <td>4040</td>\n",
       "    </tr>\n",
       "    <tr>\n",
       "      <th>280</th>\n",
       "      <td>2014-07-14</td>\n",
       "      <td>1110000</td>\n",
       "      <td>5</td>\n",
       "      <td>3.25</td>\n",
       "      <td>3070</td>\n",
       "      <td>5000</td>\n",
       "      <td>2</td>\n",
       "      <td>0</td>\n",
       "      <td>3</td>\n",
       "      <td>9</td>\n",
       "      <td>2050</td>\n",
       "      <td>1020.0</td>\n",
       "      <td>2006</td>\n",
       "      <td>2070</td>\n",
       "      <td>5000</td>\n",
       "    </tr>\n",
       "    <tr>\n",
       "      <th>287</th>\n",
       "      <td>2014-05-20</td>\n",
       "      <td>1130000</td>\n",
       "      <td>6</td>\n",
       "      <td>3.00</td>\n",
       "      <td>2880</td>\n",
       "      <td>3192</td>\n",
       "      <td>2</td>\n",
       "      <td>0</td>\n",
       "      <td>4</td>\n",
       "      <td>8</td>\n",
       "      <td>2180</td>\n",
       "      <td>700.0</td>\n",
       "      <td>1919</td>\n",
       "      <td>1870</td>\n",
       "      <td>4533</td>\n",
       "    </tr>\n",
       "    <tr>\n",
       "      <th>379</th>\n",
       "      <td>2014-11-17</td>\n",
       "      <td>1310000</td>\n",
       "      <td>4</td>\n",
       "      <td>3.75</td>\n",
       "      <td>3490</td>\n",
       "      <td>5625</td>\n",
       "      <td>2</td>\n",
       "      <td>0</td>\n",
       "      <td>3</td>\n",
       "      <td>9</td>\n",
       "      <td>2610</td>\n",
       "      <td>880.0</td>\n",
       "      <td>2014</td>\n",
       "      <td>1940</td>\n",
       "      <td>5000</td>\n",
       "    </tr>\n",
       "    <tr>\n",
       "      <th>421</th>\n",
       "      <td>2015-01-28</td>\n",
       "      <td>1350000</td>\n",
       "      <td>4</td>\n",
       "      <td>4.50</td>\n",
       "      <td>3420</td>\n",
       "      <td>7440</td>\n",
       "      <td>3</td>\n",
       "      <td>0</td>\n",
       "      <td>3</td>\n",
       "      <td>9</td>\n",
       "      <td>3420</td>\n",
       "      <td>0.0</td>\n",
       "      <td>2014</td>\n",
       "      <td>1360</td>\n",
       "      <td>5580</td>\n",
       "    </tr>\n",
       "    <tr>\n",
       "      <th>441</th>\n",
       "      <td>2015-01-21</td>\n",
       "      <td>1380000</td>\n",
       "      <td>4</td>\n",
       "      <td>3.50</td>\n",
       "      <td>3130</td>\n",
       "      <td>4500</td>\n",
       "      <td>2</td>\n",
       "      <td>0</td>\n",
       "      <td>3</td>\n",
       "      <td>9</td>\n",
       "      <td>2060</td>\n",
       "      <td>1070.0</td>\n",
       "      <td>2014</td>\n",
       "      <td>1500</td>\n",
       "      <td>4500</td>\n",
       "    </tr>\n",
       "    <tr>\n",
       "      <th>496</th>\n",
       "      <td>2014-10-29</td>\n",
       "      <td>1380000</td>\n",
       "      <td>5</td>\n",
       "      <td>3.75</td>\n",
       "      <td>3330</td>\n",
       "      <td>5042</td>\n",
       "      <td>2</td>\n",
       "      <td>2</td>\n",
       "      <td>3</td>\n",
       "      <td>9</td>\n",
       "      <td>2470</td>\n",
       "      <td>860.0</td>\n",
       "      <td>2014</td>\n",
       "      <td>1780</td>\n",
       "      <td>3990</td>\n",
       "    </tr>\n",
       "    <tr>\n",
       "      <th>506</th>\n",
       "      <td>2014-10-30</td>\n",
       "      <td>1470000</td>\n",
       "      <td>4</td>\n",
       "      <td>2.50</td>\n",
       "      <td>2800</td>\n",
       "      <td>4000</td>\n",
       "      <td>2</td>\n",
       "      <td>0</td>\n",
       "      <td>3</td>\n",
       "      <td>9</td>\n",
       "      <td>2800</td>\n",
       "      <td>0.0</td>\n",
       "      <td>2011</td>\n",
       "      <td>1770</td>\n",
       "      <td>4200</td>\n",
       "    </tr>\n",
       "    <tr>\n",
       "      <th>523</th>\n",
       "      <td>2015-04-03</td>\n",
       "      <td>1210000</td>\n",
       "      <td>4</td>\n",
       "      <td>3.00</td>\n",
       "      <td>3330</td>\n",
       "      <td>7650</td>\n",
       "      <td>1</td>\n",
       "      <td>0</td>\n",
       "      <td>3</td>\n",
       "      <td>9</td>\n",
       "      <td>1830</td>\n",
       "      <td>1500.0</td>\n",
       "      <td>2008</td>\n",
       "      <td>1200</td>\n",
       "      <td>3876</td>\n",
       "    </tr>\n",
       "    <tr>\n",
       "      <th>572</th>\n",
       "      <td>2014-10-28</td>\n",
       "      <td>1500000</td>\n",
       "      <td>3</td>\n",
       "      <td>3.50</td>\n",
       "      <td>3530</td>\n",
       "      <td>3610</td>\n",
       "      <td>2</td>\n",
       "      <td>0</td>\n",
       "      <td>3</td>\n",
       "      <td>10</td>\n",
       "      <td>2370</td>\n",
       "      <td>1160.0</td>\n",
       "      <td>2008</td>\n",
       "      <td>1780</td>\n",
       "      <td>3610</td>\n",
       "    </tr>\n",
       "    <tr>\n",
       "      <th>592</th>\n",
       "      <td>2014-06-17</td>\n",
       "      <td>1560000</td>\n",
       "      <td>3</td>\n",
       "      <td>3.50</td>\n",
       "      <td>4360</td>\n",
       "      <td>6240</td>\n",
       "      <td>2</td>\n",
       "      <td>3</td>\n",
       "      <td>3</td>\n",
       "      <td>10</td>\n",
       "      <td>2960</td>\n",
       "      <td>1400.0</td>\n",
       "      <td>2008</td>\n",
       "      <td>1920</td>\n",
       "      <td>3910</td>\n",
       "    </tr>\n",
       "  </tbody>\n",
       "</table>\n",
       "</div>"
      ],
      "text/plain": [
       "          date    price  bedrooms  bathrooms  sqft_living  sqft_lot  floors  \\\n",
       "50  2014-06-13  1130000         6       3.75         3010      4360       2   \n",
       "135 2015-03-25  1170000         4       3.75         3920      4500       3   \n",
       "141 2014-07-01  1300000         6       2.75         2630      9420       2   \n",
       "144 2014-05-12  1320000         4       3.50         3460      3997       2   \n",
       "168 2015-05-14  1700000         5       3.00         3320      5354       2   \n",
       "280 2014-07-14  1110000         5       3.25         3070      5000       2   \n",
       "287 2014-05-20  1130000         6       3.00         2880      3192       2   \n",
       "379 2014-11-17  1310000         4       3.75         3490      5625       2   \n",
       "421 2015-01-28  1350000         4       4.50         3420      7440       3   \n",
       "441 2015-01-21  1380000         4       3.50         3130      4500       2   \n",
       "496 2014-10-29  1380000         5       3.75         3330      5042       2   \n",
       "506 2014-10-30  1470000         4       2.50         2800      4000       2   \n",
       "523 2015-04-03  1210000         4       3.00         3330      7650       1   \n",
       "572 2014-10-28  1500000         3       3.50         3530      3610       2   \n",
       "592 2014-06-17  1560000         3       3.50         4360      6240       2   \n",
       "\n",
       "     view  condition  grade  sqft_above  sqft_basement  yr_built  \\\n",
       "50      0          3      9        2000         1010.0      2014   \n",
       "135     0          3      8        3920            0.0      2013   \n",
       "141     0          5      9        2510          120.0      1900   \n",
       "144     0          3     10        2560          900.0      2004   \n",
       "168     0          3      9        3320            0.0      2004   \n",
       "280     0          3      9        2050         1020.0      2006   \n",
       "287     0          4      8        2180          700.0      1919   \n",
       "379     0          3      9        2610          880.0      2014   \n",
       "421     0          3      9        3420            0.0      2014   \n",
       "441     0          3      9        2060         1070.0      2014   \n",
       "496     2          3      9        2470          860.0      2014   \n",
       "506     0          3      9        2800            0.0      2011   \n",
       "523     0          3      9        1830         1500.0      2008   \n",
       "572     0          3     10        2370         1160.0      2008   \n",
       "592     3          3     10        2960         1400.0      2008   \n",
       "\n",
       "     sqft_living15  sqft_lot15  \n",
       "50            1600        5160  \n",
       "135           2040        3000  \n",
       "141           1540        4969  \n",
       "144           1860        4000  \n",
       "168           2330        4040  \n",
       "280           2070        5000  \n",
       "287           1870        4533  \n",
       "379           1940        5000  \n",
       "421           1360        5580  \n",
       "441           1500        4500  \n",
       "496           1780        3990  \n",
       "506           1770        4200  \n",
       "523           1200        3876  \n",
       "572           1780        3610  \n",
       "592           1920        3910  "
      ]
     },
     "execution_count": 129,
     "metadata": {},
     "output_type": "execute_result"
    }
   ],
   "source": [
    "subset_df.loc[subset_df['price'] > 1100000]"
   ]
  },
  {
   "cell_type": "code",
   "execution_count": 130,
   "metadata": {
    "scrolled": true
   },
   "outputs": [
    {
     "data": {
      "text/plain": [
       "<matplotlib.axes._subplots.AxesSubplot at 0x1a2559e5c0>"
      ]
     },
     "execution_count": 130,
     "metadata": {},
     "output_type": "execute_result"
    },
    {
     "data": {
      "image/png": "[encoded data removed]",
      "text/plain": [
       "<Figure size 432x288 with 1 Axes>"
      ]
     },
     "metadata": {
      "needs_background": "light"
     },
     "output_type": "display_data"
    }
   ],
   "source": [
    "sns.boxplot(x=subset_df['bedrooms'])"
   ]
  },
  {
   "cell_type": "code",
   "execution_count": 131,
   "metadata": {
    "scrolled": true
   },
   "outputs": [
    {
     "data": {
      "text/html": [
       "<div>\n",
       "<style scoped>\n",
       "    .dataframe tbody tr th:only-of-type {\n",
       "        vertical-align: middle;\n",
       "    }\n",
       "\n",
       "    .dataframe tbody tr th {\n",
       "        vertical-align: top;\n",
       "    }\n",
       "\n",
       "    .dataframe thead th {\n",
       "        text-align: right;\n",
       "    }\n",
       "</style>\n",
       "<table border=\"1\" class=\"dataframe\">\n",
       "  <thead>\n",
       "    <tr style=\"text-align: right;\">\n",
       "      <th></th>\n",
       "      <th>date</th>\n",
       "      <th>price</th>\n",
       "      <th>bedrooms</th>\n",
       "      <th>bathrooms</th>\n",
       "      <th>sqft_living</th>\n",
       "      <th>sqft_lot</th>\n",
       "      <th>floors</th>\n",
       "      <th>view</th>\n",
       "      <th>condition</th>\n",
       "      <th>grade</th>\n",
       "      <th>sqft_above</th>\n",
       "      <th>sqft_basement</th>\n",
       "      <th>yr_built</th>\n",
       "      <th>sqft_living15</th>\n",
       "      <th>sqft_lot15</th>\n",
       "    </tr>\n",
       "  </thead>\n",
       "  <tbody>\n",
       "    <tr>\n",
       "      <th>45</th>\n",
       "      <td>2014-07-10</td>\n",
       "      <td>775000</td>\n",
       "      <td>6</td>\n",
       "      <td>2.75</td>\n",
       "      <td>2980</td>\n",
       "      <td>5000</td>\n",
       "      <td>1</td>\n",
       "      <td>0</td>\n",
       "      <td>3</td>\n",
       "      <td>7</td>\n",
       "      <td>2480</td>\n",
       "      <td>500.0</td>\n",
       "      <td>1916</td>\n",
       "      <td>1470</td>\n",
       "      <td>5000</td>\n",
       "    </tr>\n",
       "    <tr>\n",
       "      <th>50</th>\n",
       "      <td>2014-06-13</td>\n",
       "      <td>1130000</td>\n",
       "      <td>6</td>\n",
       "      <td>3.75</td>\n",
       "      <td>3010</td>\n",
       "      <td>4360</td>\n",
       "      <td>2</td>\n",
       "      <td>0</td>\n",
       "      <td>3</td>\n",
       "      <td>9</td>\n",
       "      <td>2000</td>\n",
       "      <td>1010.0</td>\n",
       "      <td>2014</td>\n",
       "      <td>1600</td>\n",
       "      <td>5160</td>\n",
       "    </tr>\n",
       "    <tr>\n",
       "      <th>106</th>\n",
       "      <td>2014-05-07</td>\n",
       "      <td>599999</td>\n",
       "      <td>9</td>\n",
       "      <td>4.50</td>\n",
       "      <td>3830</td>\n",
       "      <td>6988</td>\n",
       "      <td>2</td>\n",
       "      <td>0</td>\n",
       "      <td>3</td>\n",
       "      <td>7</td>\n",
       "      <td>2450</td>\n",
       "      <td>1380.0</td>\n",
       "      <td>1938</td>\n",
       "      <td>1460</td>\n",
       "      <td>6291</td>\n",
       "    </tr>\n",
       "    <tr>\n",
       "      <th>115</th>\n",
       "      <td>2015-04-14</td>\n",
       "      <td>752000</td>\n",
       "      <td>6</td>\n",
       "      <td>3.75</td>\n",
       "      <td>3810</td>\n",
       "      <td>6663</td>\n",
       "      <td>2</td>\n",
       "      <td>0</td>\n",
       "      <td>4</td>\n",
       "      <td>8</td>\n",
       "      <td>3810</td>\n",
       "      <td>0.0</td>\n",
       "      <td>1977</td>\n",
       "      <td>1610</td>\n",
       "      <td>4561</td>\n",
       "    </tr>\n",
       "    <tr>\n",
       "      <th>121</th>\n",
       "      <td>2014-06-26</td>\n",
       "      <td>725000</td>\n",
       "      <td>6</td>\n",
       "      <td>3.00</td>\n",
       "      <td>3110</td>\n",
       "      <td>5000</td>\n",
       "      <td>1</td>\n",
       "      <td>0</td>\n",
       "      <td>5</td>\n",
       "      <td>7</td>\n",
       "      <td>1810</td>\n",
       "      <td>1300.0</td>\n",
       "      <td>1921</td>\n",
       "      <td>1600</td>\n",
       "      <td>4000</td>\n",
       "    </tr>\n",
       "    <tr>\n",
       "      <th>141</th>\n",
       "      <td>2014-07-01</td>\n",
       "      <td>1300000</td>\n",
       "      <td>6</td>\n",
       "      <td>2.75</td>\n",
       "      <td>2630</td>\n",
       "      <td>9420</td>\n",
       "      <td>2</td>\n",
       "      <td>0</td>\n",
       "      <td>5</td>\n",
       "      <td>9</td>\n",
       "      <td>2510</td>\n",
       "      <td>120.0</td>\n",
       "      <td>1900</td>\n",
       "      <td>1540</td>\n",
       "      <td>4969</td>\n",
       "    </tr>\n",
       "    <tr>\n",
       "      <th>241</th>\n",
       "      <td>2015-04-10</td>\n",
       "      <td>760000</td>\n",
       "      <td>6</td>\n",
       "      <td>3.75</td>\n",
       "      <td>3810</td>\n",
       "      <td>6150</td>\n",
       "      <td>2</td>\n",
       "      <td>0</td>\n",
       "      <td>4</td>\n",
       "      <td>8</td>\n",
       "      <td>3810</td>\n",
       "      <td>0.0</td>\n",
       "      <td>1977</td>\n",
       "      <td>1830</td>\n",
       "      <td>5125</td>\n",
       "    </tr>\n",
       "    <tr>\n",
       "      <th>244</th>\n",
       "      <td>2014-05-13</td>\n",
       "      <td>550000</td>\n",
       "      <td>7</td>\n",
       "      <td>4.00</td>\n",
       "      <td>3440</td>\n",
       "      <td>8100</td>\n",
       "      <td>2</td>\n",
       "      <td>0</td>\n",
       "      <td>3</td>\n",
       "      <td>7</td>\n",
       "      <td>3440</td>\n",
       "      <td>0.0</td>\n",
       "      <td>1970</td>\n",
       "      <td>1420</td>\n",
       "      <td>1560</td>\n",
       "    </tr>\n",
       "    <tr>\n",
       "      <th>245</th>\n",
       "      <td>2014-12-26</td>\n",
       "      <td>920000</td>\n",
       "      <td>6</td>\n",
       "      <td>3.00</td>\n",
       "      <td>3300</td>\n",
       "      <td>4218</td>\n",
       "      <td>2</td>\n",
       "      <td>0</td>\n",
       "      <td>3</td>\n",
       "      <td>8</td>\n",
       "      <td>2200</td>\n",
       "      <td>1100.0</td>\n",
       "      <td>1970</td>\n",
       "      <td>1420</td>\n",
       "      <td>4218</td>\n",
       "    </tr>\n",
       "    <tr>\n",
       "      <th>287</th>\n",
       "      <td>2014-05-20</td>\n",
       "      <td>1130000</td>\n",
       "      <td>6</td>\n",
       "      <td>3.00</td>\n",
       "      <td>2880</td>\n",
       "      <td>3192</td>\n",
       "      <td>2</td>\n",
       "      <td>0</td>\n",
       "      <td>4</td>\n",
       "      <td>8</td>\n",
       "      <td>2180</td>\n",
       "      <td>700.0</td>\n",
       "      <td>1919</td>\n",
       "      <td>1870</td>\n",
       "      <td>4533</td>\n",
       "    </tr>\n",
       "    <tr>\n",
       "      <th>293</th>\n",
       "      <td>2014-08-19</td>\n",
       "      <td>869900</td>\n",
       "      <td>6</td>\n",
       "      <td>4.50</td>\n",
       "      <td>2750</td>\n",
       "      <td>4400</td>\n",
       "      <td>2</td>\n",
       "      <td>0</td>\n",
       "      <td>3</td>\n",
       "      <td>8</td>\n",
       "      <td>1770</td>\n",
       "      <td>980.0</td>\n",
       "      <td>1987</td>\n",
       "      <td>1860</td>\n",
       "      <td>4400</td>\n",
       "    </tr>\n",
       "    <tr>\n",
       "      <th>390</th>\n",
       "      <td>2014-06-25</td>\n",
       "      <td>640000</td>\n",
       "      <td>33</td>\n",
       "      <td>1.75</td>\n",
       "      <td>1620</td>\n",
       "      <td>6000</td>\n",
       "      <td>1</td>\n",
       "      <td>0</td>\n",
       "      <td>5</td>\n",
       "      <td>7</td>\n",
       "      <td>1040</td>\n",
       "      <td>580.0</td>\n",
       "      <td>1947</td>\n",
       "      <td>1330</td>\n",
       "      <td>4700</td>\n",
       "    </tr>\n",
       "    <tr>\n",
       "      <th>403</th>\n",
       "      <td>2015-04-13</td>\n",
       "      <td>650000</td>\n",
       "      <td>6</td>\n",
       "      <td>3.00</td>\n",
       "      <td>2960</td>\n",
       "      <td>5000</td>\n",
       "      <td>1</td>\n",
       "      <td>0</td>\n",
       "      <td>3</td>\n",
       "      <td>8</td>\n",
       "      <td>1790</td>\n",
       "      <td>1170.0</td>\n",
       "      <td>1968</td>\n",
       "      <td>1280</td>\n",
       "      <td>1251</td>\n",
       "    </tr>\n",
       "  </tbody>\n",
       "</table>\n",
       "</div>"
      ],
      "text/plain": [
       "          date    price  bedrooms  bathrooms  sqft_living  sqft_lot  floors  \\\n",
       "45  2014-07-10   775000         6       2.75         2980      5000       1   \n",
       "50  2014-06-13  1130000         6       3.75         3010      4360       2   \n",
       "106 2014-05-07   599999         9       4.50         3830      6988       2   \n",
       "115 2015-04-14   752000         6       3.75         3810      6663       2   \n",
       "121 2014-06-26   725000         6       3.00         3110      5000       1   \n",
       "141 2014-07-01  1300000         6       2.75         2630      9420       2   \n",
       "241 2015-04-10   760000         6       3.75         3810      6150       2   \n",
       "244 2014-05-13   550000         7       4.00         3440      8100       2   \n",
       "245 2014-12-26   920000         6       3.00         3300      4218       2   \n",
       "287 2014-05-20  1130000         6       3.00         2880      3192       2   \n",
       "293 2014-08-19   869900         6       4.50         2750      4400       2   \n",
       "390 2014-06-25   640000        33       1.75         1620      6000       1   \n",
       "403 2015-04-13   650000         6       3.00         2960      5000       1   \n",
       "\n",
       "     view  condition  grade  sqft_above  sqft_basement  yr_built  \\\n",
       "45      0          3      7        2480          500.0      1916   \n",
       "50      0          3      9        2000         1010.0      2014   \n",
       "106     0          3      7        2450         1380.0      1938   \n",
       "115     0          4      8        3810            0.0      1977   \n",
       "121     0          5      7        1810         1300.0      1921   \n",
       "141     0          5      9        2510          120.0      1900   \n",
       "241     0          4      8        3810            0.0      1977   \n",
       "244     0          3      7        3440            0.0      1970   \n",
       "245     0          3      8        2200         1100.0      1970   \n",
       "287     0          4      8        2180          700.0      1919   \n",
       "293     0          3      8        1770          980.0      1987   \n",
       "390     0          5      7        1040          580.0      1947   \n",
       "403     0          3      8        1790         1170.0      1968   \n",
       "\n",
       "     sqft_living15  sqft_lot15  \n",
       "45            1470        5000  \n",
       "50            1600        5160  \n",
       "106           1460        6291  \n",
       "115           1610        4561  \n",
       "121           1600        4000  \n",
       "141           1540        4969  \n",
       "241           1830        5125  \n",
       "244           1420        1560  \n",
       "245           1420        4218  \n",
       "287           1870        4533  \n",
       "293           1860        4400  \n",
       "390           1330        4700  \n",
       "403           1280        1251  "
      ]
     },
     "execution_count": 131,
     "metadata": {},
     "output_type": "execute_result"
    }
   ],
   "source": [
    "subset_df.loc[subset_df['bedrooms'] > 5]"
   ]
  },
  {
   "cell_type": "code",
   "execution_count": 132,
   "metadata": {},
   "outputs": [],
   "source": [
    "subset_df.loc[390, 'bedrooms'] = 3    #df.loc['d', 'score'] = 11.5"
   ]
  },
  {
   "cell_type": "code",
   "execution_count": 133,
   "metadata": {
    "scrolled": true
   },
   "outputs": [
    {
     "data": {
      "text/html": [
       "<div>\n",
       "<style scoped>\n",
       "    .dataframe tbody tr th:only-of-type {\n",
       "        vertical-align: middle;\n",
       "    }\n",
       "\n",
       "    .dataframe tbody tr th {\n",
       "        vertical-align: top;\n",
       "    }\n",
       "\n",
       "    .dataframe thead th {\n",
       "        text-align: right;\n",
       "    }\n",
       "</style>\n",
       "<table border=\"1\" class=\"dataframe\">\n",
       "  <thead>\n",
       "    <tr style=\"text-align: right;\">\n",
       "      <th></th>\n",
       "      <th>date</th>\n",
       "      <th>price</th>\n",
       "      <th>bedrooms</th>\n",
       "      <th>bathrooms</th>\n",
       "      <th>sqft_living</th>\n",
       "      <th>sqft_lot</th>\n",
       "      <th>floors</th>\n",
       "      <th>view</th>\n",
       "      <th>condition</th>\n",
       "      <th>grade</th>\n",
       "      <th>sqft_above</th>\n",
       "      <th>sqft_basement</th>\n",
       "      <th>yr_built</th>\n",
       "      <th>sqft_living15</th>\n",
       "      <th>sqft_lot15</th>\n",
       "    </tr>\n",
       "  </thead>\n",
       "  <tbody>\n",
       "    <tr>\n",
       "      <th>45</th>\n",
       "      <td>2014-07-10</td>\n",
       "      <td>775000</td>\n",
       "      <td>6</td>\n",
       "      <td>2.75</td>\n",
       "      <td>2980</td>\n",
       "      <td>5000</td>\n",
       "      <td>1</td>\n",
       "      <td>0</td>\n",
       "      <td>3</td>\n",
       "      <td>7</td>\n",
       "      <td>2480</td>\n",
       "      <td>500.0</td>\n",
       "      <td>1916</td>\n",
       "      <td>1470</td>\n",
       "      <td>5000</td>\n",
       "    </tr>\n",
       "    <tr>\n",
       "      <th>50</th>\n",
       "      <td>2014-06-13</td>\n",
       "      <td>1130000</td>\n",
       "      <td>6</td>\n",
       "      <td>3.75</td>\n",
       "      <td>3010</td>\n",
       "      <td>4360</td>\n",
       "      <td>2</td>\n",
       "      <td>0</td>\n",
       "      <td>3</td>\n",
       "      <td>9</td>\n",
       "      <td>2000</td>\n",
       "      <td>1010.0</td>\n",
       "      <td>2014</td>\n",
       "      <td>1600</td>\n",
       "      <td>5160</td>\n",
       "    </tr>\n",
       "    <tr>\n",
       "      <th>106</th>\n",
       "      <td>2014-05-07</td>\n",
       "      <td>599999</td>\n",
       "      <td>9</td>\n",
       "      <td>4.50</td>\n",
       "      <td>3830</td>\n",
       "      <td>6988</td>\n",
       "      <td>2</td>\n",
       "      <td>0</td>\n",
       "      <td>3</td>\n",
       "      <td>7</td>\n",
       "      <td>2450</td>\n",
       "      <td>1380.0</td>\n",
       "      <td>1938</td>\n",
       "      <td>1460</td>\n",
       "      <td>6291</td>\n",
       "    </tr>\n",
       "    <tr>\n",
       "      <th>115</th>\n",
       "      <td>2015-04-14</td>\n",
       "      <td>752000</td>\n",
       "      <td>6</td>\n",
       "      <td>3.75</td>\n",
       "      <td>3810</td>\n",
       "      <td>6663</td>\n",
       "      <td>2</td>\n",
       "      <td>0</td>\n",
       "      <td>4</td>\n",
       "      <td>8</td>\n",
       "      <td>3810</td>\n",
       "      <td>0.0</td>\n",
       "      <td>1977</td>\n",
       "      <td>1610</td>\n",
       "      <td>4561</td>\n",
       "    </tr>\n",
       "    <tr>\n",
       "      <th>121</th>\n",
       "      <td>2014-06-26</td>\n",
       "      <td>725000</td>\n",
       "      <td>6</td>\n",
       "      <td>3.00</td>\n",
       "      <td>3110</td>\n",
       "      <td>5000</td>\n",
       "      <td>1</td>\n",
       "      <td>0</td>\n",
       "      <td>5</td>\n",
       "      <td>7</td>\n",
       "      <td>1810</td>\n",
       "      <td>1300.0</td>\n",
       "      <td>1921</td>\n",
       "      <td>1600</td>\n",
       "      <td>4000</td>\n",
       "    </tr>\n",
       "    <tr>\n",
       "      <th>141</th>\n",
       "      <td>2014-07-01</td>\n",
       "      <td>1300000</td>\n",
       "      <td>6</td>\n",
       "      <td>2.75</td>\n",
       "      <td>2630</td>\n",
       "      <td>9420</td>\n",
       "      <td>2</td>\n",
       "      <td>0</td>\n",
       "      <td>5</td>\n",
       "      <td>9</td>\n",
       "      <td>2510</td>\n",
       "      <td>120.0</td>\n",
       "      <td>1900</td>\n",
       "      <td>1540</td>\n",
       "      <td>4969</td>\n",
       "    </tr>\n",
       "    <tr>\n",
       "      <th>241</th>\n",
       "      <td>2015-04-10</td>\n",
       "      <td>760000</td>\n",
       "      <td>6</td>\n",
       "      <td>3.75</td>\n",
       "      <td>3810</td>\n",
       "      <td>6150</td>\n",
       "      <td>2</td>\n",
       "      <td>0</td>\n",
       "      <td>4</td>\n",
       "      <td>8</td>\n",
       "      <td>3810</td>\n",
       "      <td>0.0</td>\n",
       "      <td>1977</td>\n",
       "      <td>1830</td>\n",
       "      <td>5125</td>\n",
       "    </tr>\n",
       "    <tr>\n",
       "      <th>244</th>\n",
       "      <td>2014-05-13</td>\n",
       "      <td>550000</td>\n",
       "      <td>7</td>\n",
       "      <td>4.00</td>\n",
       "      <td>3440</td>\n",
       "      <td>8100</td>\n",
       "      <td>2</td>\n",
       "      <td>0</td>\n",
       "      <td>3</td>\n",
       "      <td>7</td>\n",
       "      <td>3440</td>\n",
       "      <td>0.0</td>\n",
       "      <td>1970</td>\n",
       "      <td>1420</td>\n",
       "      <td>1560</td>\n",
       "    </tr>\n",
       "    <tr>\n",
       "      <th>245</th>\n",
       "      <td>2014-12-26</td>\n",
       "      <td>920000</td>\n",
       "      <td>6</td>\n",
       "      <td>3.00</td>\n",
       "      <td>3300</td>\n",
       "      <td>4218</td>\n",
       "      <td>2</td>\n",
       "      <td>0</td>\n",
       "      <td>3</td>\n",
       "      <td>8</td>\n",
       "      <td>2200</td>\n",
       "      <td>1100.0</td>\n",
       "      <td>1970</td>\n",
       "      <td>1420</td>\n",
       "      <td>4218</td>\n",
       "    </tr>\n",
       "    <tr>\n",
       "      <th>287</th>\n",
       "      <td>2014-05-20</td>\n",
       "      <td>1130000</td>\n",
       "      <td>6</td>\n",
       "      <td>3.00</td>\n",
       "      <td>2880</td>\n",
       "      <td>3192</td>\n",
       "      <td>2</td>\n",
       "      <td>0</td>\n",
       "      <td>4</td>\n",
       "      <td>8</td>\n",
       "      <td>2180</td>\n",
       "      <td>700.0</td>\n",
       "      <td>1919</td>\n",
       "      <td>1870</td>\n",
       "      <td>4533</td>\n",
       "    </tr>\n",
       "    <tr>\n",
       "      <th>293</th>\n",
       "      <td>2014-08-19</td>\n",
       "      <td>869900</td>\n",
       "      <td>6</td>\n",
       "      <td>4.50</td>\n",
       "      <td>2750</td>\n",
       "      <td>4400</td>\n",
       "      <td>2</td>\n",
       "      <td>0</td>\n",
       "      <td>3</td>\n",
       "      <td>8</td>\n",
       "      <td>1770</td>\n",
       "      <td>980.0</td>\n",
       "      <td>1987</td>\n",
       "      <td>1860</td>\n",
       "      <td>4400</td>\n",
       "    </tr>\n",
       "    <tr>\n",
       "      <th>403</th>\n",
       "      <td>2015-04-13</td>\n",
       "      <td>650000</td>\n",
       "      <td>6</td>\n",
       "      <td>3.00</td>\n",
       "      <td>2960</td>\n",
       "      <td>5000</td>\n",
       "      <td>1</td>\n",
       "      <td>0</td>\n",
       "      <td>3</td>\n",
       "      <td>8</td>\n",
       "      <td>1790</td>\n",
       "      <td>1170.0</td>\n",
       "      <td>1968</td>\n",
       "      <td>1280</td>\n",
       "      <td>1251</td>\n",
       "    </tr>\n",
       "  </tbody>\n",
       "</table>\n",
       "</div>"
      ],
      "text/plain": [
       "          date    price  bedrooms  bathrooms  sqft_living  sqft_lot  floors  \\\n",
       "45  2014-07-10   775000         6       2.75         2980      5000       1   \n",
       "50  2014-06-13  1130000         6       3.75         3010      4360       2   \n",
       "106 2014-05-07   599999         9       4.50         3830      6988       2   \n",
       "115 2015-04-14   752000         6       3.75         3810      6663       2   \n",
       "121 2014-06-26   725000         6       3.00         3110      5000       1   \n",
       "141 2014-07-01  1300000         6       2.75         2630      9420       2   \n",
       "241 2015-04-10   760000         6       3.75         3810      6150       2   \n",
       "244 2014-05-13   550000         7       4.00         3440      8100       2   \n",
       "245 2014-12-26   920000         6       3.00         3300      4218       2   \n",
       "287 2014-05-20  1130000         6       3.00         2880      3192       2   \n",
       "293 2014-08-19   869900         6       4.50         2750      4400       2   \n",
       "403 2015-04-13   650000         6       3.00         2960      5000       1   \n",
       "\n",
       "     view  condition  grade  sqft_above  sqft_basement  yr_built  \\\n",
       "45      0          3      7        2480          500.0      1916   \n",
       "50      0          3      9        2000         1010.0      2014   \n",
       "106     0          3      7        2450         1380.0      1938   \n",
       "115     0          4      8        3810            0.0      1977   \n",
       "121     0          5      7        1810         1300.0      1921   \n",
       "141     0          5      9        2510          120.0      1900   \n",
       "241     0          4      8        3810            0.0      1977   \n",
       "244     0          3      7        3440            0.0      1970   \n",
       "245     0          3      8        2200         1100.0      1970   \n",
       "287     0          4      8        2180          700.0      1919   \n",
       "293     0          3      8        1770          980.0      1987   \n",
       "403     0          3      8        1790         1170.0      1968   \n",
       "\n",
       "     sqft_living15  sqft_lot15  \n",
       "45            1470        5000  \n",
       "50            1600        5160  \n",
       "106           1460        6291  \n",
       "115           1610        4561  \n",
       "121           1600        4000  \n",
       "141           1540        4969  \n",
       "241           1830        5125  \n",
       "244           1420        1560  \n",
       "245           1420        4218  \n",
       "287           1870        4533  \n",
       "293           1860        4400  \n",
       "403           1280        1251  "
      ]
     },
     "execution_count": 133,
     "metadata": {},
     "output_type": "execute_result"
    }
   ],
   "source": [
    "subset_df.loc[subset_df['bedrooms'] > 5]"
   ]
  },
  {
   "cell_type": "code",
   "execution_count": 134,
   "metadata": {},
   "outputs": [
    {
     "data": {
      "text/plain": [
       "<matplotlib.axes._subplots.AxesSubplot at 0x122685c50>"
      ]
     },
     "execution_count": 134,
     "metadata": {},
     "output_type": "execute_result"
    },
    {
     "data": {
      "image/png": "[encoded data removed]",
      "text/plain": [
       "<Figure size 432x288 with 1 Axes>"
      ]
     },
     "metadata": {
      "needs_background": "light"
     },
     "output_type": "display_data"
    }
   ],
   "source": [
    "sns.boxplot(x=subset_df['bedrooms'])"
   ]
  },
  {
   "cell_type": "code",
   "execution_count": 53,
   "metadata": {},
   "outputs": [
    {
     "data": {
      "text/plain": [
       "<matplotlib.axes._subplots.AxesSubplot at 0x1228a3f28>"
      ]
     },
     "execution_count": 53,
     "metadata": {},
     "output_type": "execute_result"
    },
    {
     "data": {
      "image/png": "[encoded data removed]",
      "text/plain": [
       "<Figure size 432x288 with 1 Axes>"
      ]
     },
     "metadata": {
      "needs_background": "light"
     },
     "output_type": "display_data"
    }
   ],
   "source": [
    "sns.boxplot(x=subset_df['bathrooms'])"
   ]
  },
  {
   "cell_type": "code",
   "execution_count": 57,
   "metadata": {},
   "outputs": [
    {
     "data": {
      "text/plain": [
       "<matplotlib.axes._subplots.AxesSubplot at 0x121dfd160>"
      ]
     },
     "execution_count": 57,
     "metadata": {},
     "output_type": "execute_result"
    },
    {
     "data": {
      "image/png": "[encoded data removed]",
      "text/plain": [
       "<Figure size 432x288 with 1 Axes>"
      ]
     },
     "metadata": {
      "needs_background": "light"
     },
     "output_type": "display_data"
    }
   ],
   "source": [
    "sns.boxplot(x=subset_df['sqft_living'])"
   ]
  },
  {
   "cell_type": "code",
   "execution_count": 58,
   "metadata": {},
   "outputs": [
    {
     "data": {
      "text/plain": [
       "<matplotlib.axes._subplots.AxesSubplot at 0x1a24af4f60>"
      ]
     },
     "execution_count": 58,
     "metadata": {},
     "output_type": "execute_result"
    },
    {
     "data": {
      "image/png": "[encoded data removed]",
      "text/plain": [
       "<Figure size 432x288 with 1 Axes>"
      ]
     },
     "metadata": {
      "needs_background": "light"
     },
     "output_type": "display_data"
    }
   ],
   "source": [
    "sns.boxplot(x=subset_df['sqft_lot'])"
   ]
  },
  {
   "cell_type": "code",
   "execution_count": 59,
   "metadata": {},
   "outputs": [
    {
     "data": {
      "text/plain": [
       "<matplotlib.axes._subplots.AxesSubplot at 0x1a249ad898>"
      ]
     },
     "execution_count": 59,
     "metadata": {},
     "output_type": "execute_result"
    },
    {
     "data": {
      "image/png": "[encoded data removed]",
      "text/plain": [
       "<Figure size 432x288 with 1 Axes>"
      ]
     },
     "metadata": {
      "needs_background": "light"
     },
     "output_type": "display_data"
    }
   ],
   "source": [
    "sns.boxplot(x=subset_df['floors'])"
   ]
  },
  {
   "cell_type": "code",
   "execution_count": 60,
   "metadata": {},
   "outputs": [
    {
     "data": {
      "text/plain": [
       "<matplotlib.axes._subplots.AxesSubplot at 0x1215dc9b0>"
      ]
     },
     "execution_count": 60,
     "metadata": {},
     "output_type": "execute_result"
    },
    {
     "data": {
      "image/png": "[encoded data removed]",
      "text/plain": [
       "<Figure size 432x288 with 1 Axes>"
      ]
     },
     "metadata": {
      "needs_background": "light"
     },
     "output_type": "display_data"
    }
   ],
   "source": [
    "sns.boxplot(x=subset_df['view'])"
   ]
  },
  {
   "cell_type": "code",
   "execution_count": 61,
   "metadata": {},
   "outputs": [
    {
     "data": {
      "text/plain": [
       "<matplotlib.axes._subplots.AxesSubplot at 0x121de6550>"
      ]
     },
     "execution_count": 61,
     "metadata": {},
     "output_type": "execute_result"
    },
    {
     "data": {
      "image/png": "[encoded data removed]",
      "text/plain": [
       "<Figure size 432x288 with 1 Axes>"
      ]
     },
     "metadata": {
      "needs_background": "light"
     },
     "output_type": "display_data"
    }
   ],
   "source": [
    "sns.boxplot(x=subset_df['condition'])"
   ]
  },
  {
   "cell_type": "code",
   "execution_count": 62,
   "metadata": {},
   "outputs": [
    {
     "data": {
      "text/plain": [
       "<matplotlib.axes._subplots.AxesSubplot at 0x12167bcc0>"
      ]
     },
     "execution_count": 62,
     "metadata": {},
     "output_type": "execute_result"
    },
    {
     "data": {
      "image/png": "[encoded data removed]",
      "text/plain": [
       "<Figure size 432x288 with 1 Axes>"
      ]
     },
     "metadata": {
      "needs_background": "light"
     },
     "output_type": "display_data"
    }
   ],
   "source": [
    "sns.boxplot(x=subset_df['grade'])"
   ]
  },
  {
   "cell_type": "code",
   "execution_count": 63,
   "metadata": {},
   "outputs": [
    {
     "data": {
      "text/plain": [
       "<matplotlib.axes._subplots.AxesSubplot at 0x121780ef0>"
      ]
     },
     "execution_count": 63,
     "metadata": {},
     "output_type": "execute_result"
    },
    {
     "data": {
      "image/png": "[encoded data removed]",
      "text/plain": [
       "<Figure size 432x288 with 1 Axes>"
      ]
     },
     "metadata": {
      "needs_background": "light"
     },
     "output_type": "display_data"
    }
   ],
   "source": [
    "sns.boxplot(x=subset_df['sqft_above'])"
   ]
  },
  {
   "cell_type": "code",
   "execution_count": 64,
   "metadata": {},
   "outputs": [
    {
     "data": {
      "text/plain": [
       "<matplotlib.axes._subplots.AxesSubplot at 0x12180e128>"
      ]
     },
     "execution_count": 64,
     "metadata": {},
     "output_type": "execute_result"
    },
    {
     "data": {
      "image/png": "[encoded data removed]",
      "text/plain": [
       "<Figure size 432x288 with 1 Axes>"
      ]
     },
     "metadata": {
      "needs_background": "light"
     },
     "output_type": "display_data"
    }
   ],
   "source": [
    "sns.boxplot(x=subset_df['sqft_basement'])"
   ]
  },
  {
   "cell_type": "code",
   "execution_count": 65,
   "metadata": {},
   "outputs": [
    {
     "data": {
      "text/plain": [
       "<matplotlib.axes._subplots.AxesSubplot at 0x1216e5710>"
      ]
     },
     "execution_count": 65,
     "metadata": {},
     "output_type": "execute_result"
    },
    {
     "data": {
      "image/png": "[encoded data removed]",
      "text/plain": [
       "<Figure size 432x288 with 1 Axes>"
      ]
     },
     "metadata": {
      "needs_background": "light"
     },
     "output_type": "display_data"
    }
   ],
   "source": [
    "sns.boxplot(x=subset_df['sqft_living15'])"
   ]
  },
  {
   "cell_type": "code",
   "execution_count": 66,
   "metadata": {
    "scrolled": true
   },
   "outputs": [
    {
     "data": {
      "text/plain": [
       "<matplotlib.axes._subplots.AxesSubplot at 0x1a253b3b00>"
      ]
     },
     "execution_count": 66,
     "metadata": {},
     "output_type": "execute_result"
    },
    {
     "data": {
      "image/png": "[encoded data removed]",
      "text/plain": [
       "<Figure size 432x288 with 1 Axes>"
      ]
     },
     "metadata": {
      "needs_background": "light"
     },
     "output_type": "display_data"
    }
   ],
   "source": [
    "sns.boxplot(x=subset_df['sqft_lot15'])"
   ]
  },
  {
   "cell_type": "markdown",
   "metadata": {},
   "source": [
    "Checking for Linearity"
   ]
  },
  {
   "cell_type": "code",
   "execution_count": 169,
   "metadata": {},
   "outputs": [
    {
     "data": {
      "image/png": "[encoded data removed]",
      "text/plain": [
       "<Figure size 1296x432 with 4 Axes>"
      ]
     },
     "metadata": {},
     "output_type": "display_data"
    }
   ],
   "source": [
    "fig, axs = plt.subplots(1, 4, sharey = True, figsize=(18,6))\n",
    "for idx, channel in enumerate(['bedrooms', 'bathrooms', 'sqft_living','sqft_lot']):\n",
    "    subset_df.plot(kind='scatter', x=channel, y='price', ax=axs[idx], label=channel)\n",
    "plt.legend()\n",
    "plt.show()"
   ]
  },
  {
   "cell_type": "code",
   "execution_count": 175,
   "metadata": {},
   "outputs": [
    {
     "data": {
      "image/png": "[encoded data removed]",
      "text/plain": [
       "<Figure size 1296x432 with 5 Axes>"
      ]
     },
     "metadata": {},
     "output_type": "display_data"
    }
   ],
   "source": [
    "fig, axs = plt.subplots(1, 5, sharey = True, figsize=(18,6))\n",
    "for idx, channel in enumerate(['floors', 'view', 'condition', 'grade', 'sqft_lot15']):\n",
    "    subset_df.plot(kind='scatter', x=channel, y='price', ax=axs[idx], label=channel)\n",
    "plt.legend()\n",
    "plt.show()"
   ]
  },
  {
   "cell_type": "code",
   "execution_count": 171,
   "metadata": {
    "scrolled": true
   },
   "outputs": [
    {
     "data": {
      "image/png": "[encoded data removed]",
      "text/plain": [
       "<Figure size 1296x432 with 4 Axes>"
      ]
     },
     "metadata": {},
     "output_type": "display_data"
    }
   ],
   "source": [
    "fig, axs = plt.subplots(1, 4, sharey = True, figsize=(18,6))\n",
    "for idx, channel in enumerate(['sqft_above', 'sqft_basement', 'yr_built', 'sqft_living15']):\n",
    "    subset_df.plot(kind='scatter', x=channel, y='price', ax=axs[idx], label=channel)\n",
    "plt.legend()\n",
    "plt.show()"
   ]
  },
  {
   "cell_type": "markdown",
   "metadata": {},
   "source": [
    "Checking the Distributions of the Predictors for Normality"
   ]
  },
  {
   "cell_type": "code",
   "execution_count": 154,
   "metadata": {},
   "outputs": [
    {
     "data": {
      "image/png": "[encoded data removed]",
      "text/plain": [
       "<Figure size 576x396 with 1 Axes>"
      ]
     },
     "metadata": {},
     "output_type": "display_data"
    }
   ],
   "source": [
    "#for column in subset_df:\n",
    "subset_df['bedrooms'].plot.hist(density= True, label ='bedrooms'+ ' histogram')\n",
    "subset_df['bedrooms'].plot.kde(label ='bedrooms'+' kde')\n",
    "plt.legend()\n",
    "plt.show()"
   ]
  },
  {
   "cell_type": "code",
   "execution_count": 155,
   "metadata": {},
   "outputs": [
    {
     "data": {
      "image/png": "[encoded data removed]",
      "text/plain": [
       "<Figure size 576x396 with 1 Axes>"
      ]
     },
     "metadata": {},
     "output_type": "display_data"
    }
   ],
   "source": [
    "subset_df['bathrooms'].plot.hist(density= True, label ='bathrooms'+ ' histogram')\n",
    "subset_df['bathrooms'].plot.kde(label ='bathrooms'+' kde')\n",
    "plt.legend()\n",
    "plt.show()"
   ]
  },
  {
   "cell_type": "code",
   "execution_count": 156,
   "metadata": {},
   "outputs": [
    {
     "data": {
      "image/png": "[encoded data removed]",
      "text/plain": [
       "<Figure size 576x396 with 1 Axes>"
      ]
     },
     "metadata": {},
     "output_type": "display_data"
    }
   ],
   "source": [
    "subset_df['sqft_living'].plot.hist(density= True, label ='sqft_living'+ ' histogram')\n",
    "subset_df['sqft_living'].plot.kde(label ='sqft_living'+' kde')\n",
    "plt.legend()\n",
    "plt.show()"
   ]
  },
  {
   "cell_type": "code",
   "execution_count": 157,
   "metadata": {},
   "outputs": [
    {
     "data": {
      "image/png": "[encoded data removed]",
      "text/plain": [
       "<Figure size 576x396 with 1 Axes>"
      ]
     },
     "metadata": {},
     "output_type": "display_data"
    }
   ],
   "source": [
    "subset_df['sqft_lot'].plot.hist(density= True, label ='sqft_lot'+ ' histogram')\n",
    "subset_df['sqft_lot'].plot.kde(label ='sqft_lot'+' kde')\n",
    "plt.legend()\n",
    "plt.show()"
   ]
  },
  {
   "cell_type": "code",
   "execution_count": 158,
   "metadata": {},
   "outputs": [
    {
     "data": {
      "image/png": "[encoded data removed]",
      "text/plain": [
       "<Figure size 576x396 with 1 Axes>"
      ]
     },
     "metadata": {},
     "output_type": "display_data"
    }
   ],
   "source": [
    "subset_df['floors'].plot.hist(density= True, label ='floors'+ ' histogram')\n",
    "subset_df['floors'].plot.kde(label ='floors'+' kde')\n",
    "plt.legend()\n",
    "plt.show()"
   ]
  },
  {
   "cell_type": "code",
   "execution_count": 159,
   "metadata": {},
   "outputs": [
    {
     "data": {
      "image/png": "[encoded data removed]",
      "text/plain": [
       "<Figure size 576x396 with 1 Axes>"
      ]
     },
     "metadata": {},
     "output_type": "display_data"
    }
   ],
   "source": [
    "subset_df['view'].plot.hist(density= True, label ='view'+ ' histogram')\n",
    "subset_df['view'].plot.kde(label ='view'+' kde')\n",
    "plt.legend()\n",
    "plt.show()"
   ]
  },
  {
   "cell_type": "code",
   "execution_count": 160,
   "metadata": {},
   "outputs": [
    {
     "data": {
      "image/png": "[encoded data removed]",
      "text/plain": [
       "<Figure size 576x396 with 1 Axes>"
      ]
     },
     "metadata": {},
     "output_type": "display_data"
    }
   ],
   "source": [
    "subset_df['condition'].plot.hist(density= True, label ='condition'+ ' histogram')\n",
    "subset_df['condition'].plot.kde(label ='condition'+' kde')\n",
    "plt.legend()\n",
    "plt.show()"
   ]
  },
  {
   "cell_type": "code",
   "execution_count": 161,
   "metadata": {},
   "outputs": [
    {
     "data": {
      "image/png": "[encoded data removed]",
      "text/plain": [
       "<Figure size 576x396 with 1 Axes>"
      ]
     },
     "metadata": {},
     "output_type": "display_data"
    }
   ],
   "source": [
    "subset_df['grade'].plot.hist(density= True, label ='grade'+ ' histogram')\n",
    "subset_df['grade'].plot.kde(label ='grade'+' kde')\n",
    "plt.legend()\n",
    "plt.show()"
   ]
  },
  {
   "cell_type": "code",
   "execution_count": 162,
   "metadata": {},
   "outputs": [
    {
     "data": {
      "image/png": "[encoded data removed]",
      "text/plain": [
       "<Figure size 576x396 with 1 Axes>"
      ]
     },
     "metadata": {},
     "output_type": "display_data"
    }
   ],
   "source": [
    "subset_df['sqft_above'].plot.hist(density= True, label ='sqft_above'+ ' histogram')\n",
    "subset_df['sqft_above'].plot.kde(label ='sqft_above'+' kde')\n",
    "plt.legend()\n",
    "plt.show()"
   ]
  },
  {
   "cell_type": "code",
   "execution_count": 163,
   "metadata": {},
   "outputs": [
    {
     "data": {
      "image/png": "[encoded data removed]",
      "text/plain": [
       "<Figure size 576x396 with 1 Axes>"
      ]
     },
     "metadata": {},
     "output_type": "display_data"
    }
   ],
   "source": [
    "subset_df['sqft_basement'].plot.hist(density= True, label ='sqft_basement'+ ' histogram')\n",
    "subset_df['sqft_basement'].plot.kde(label ='sqft_basement'+' kde')\n",
    "plt.legend()\n",
    "plt.show()"
   ]
  },
  {
   "cell_type": "code",
   "execution_count": 164,
   "metadata": {},
   "outputs": [
    {
     "data": {
      "image/png": "[encoded data removed]",
      "text/plain": [
       "<Figure size 576x396 with 1 Axes>"
      ]
     },
     "metadata": {},
     "output_type": "display_data"
    }
   ],
   "source": [
    "subset_df['yr_built'].plot.hist(density= True, label ='yr_built'+ ' histogram')\n",
    "subset_df['yr_built'].plot.kde(label ='yr_built'+' kde')\n",
    "plt.legend()\n",
    "plt.show()"
   ]
  },
  {
   "cell_type": "code",
   "execution_count": 165,
   "metadata": {},
   "outputs": [
    {
     "data": {
      "image/png": "[encoded data removed]",
      "text/plain": [
       "<Figure size 576x396 with 1 Axes>"
      ]
     },
     "metadata": {},
     "output_type": "display_data"
    }
   ],
   "source": [
    "subset_df['sqft_living15'].plot.hist(density= True, label ='sqft_living15'+ ' histogram')\n",
    "subset_df['sqft_living15'].plot.kde(label ='sqft_living15'+' kde')\n",
    "plt.legend()\n",
    "plt.show()"
   ]
  },
  {
   "cell_type": "code",
   "execution_count": 166,
   "metadata": {},
   "outputs": [
    {
     "data": {
      "image/png": "[encoded data removed]",
      "text/plain": [
       "<Figure size 576x396 with 1 Axes>"
      ]
     },
     "metadata": {},
     "output_type": "display_data"
    }
   ],
   "source": [
    "subset_df['sqft_lot15'].plot.hist(density= True, label ='sqft_lot15'+ ' histogram')\n",
    "subset_df['sqft_lot15'].plot.kde(label ='sqft_lot15'+' kde')\n",
    "plt.legend()\n",
    "plt.show()"
   ]
  },
  {
   "cell_type": "code",
   "execution_count": 180,
   "metadata": {},
   "outputs": [
    {
     "data": {
      "text/html": [
       "<div>\n",
       "<style scoped>\n",
       "    .dataframe tbody tr th:only-of-type {\n",
       "        vertical-align: middle;\n",
       "    }\n",
       "\n",
       "    .dataframe tbody tr th {\n",
       "        vertical-align: top;\n",
       "    }\n",
       "\n",
       "    .dataframe thead th {\n",
       "        text-align: right;\n",
       "    }\n",
       "</style>\n",
       "<table border=\"1\" class=\"dataframe\">\n",
       "  <thead>\n",
       "    <tr style=\"text-align: right;\">\n",
       "      <th></th>\n",
       "      <th>price</th>\n",
       "      <th>bedrooms</th>\n",
       "      <th>bathrooms</th>\n",
       "      <th>sqft_living</th>\n",
       "      <th>sqft_lot</th>\n",
       "      <th>floors</th>\n",
       "      <th>view</th>\n",
       "      <th>condition</th>\n",
       "      <th>grade</th>\n",
       "      <th>sqft_above</th>\n",
       "      <th>sqft_basement</th>\n",
       "      <th>yr_built</th>\n",
       "      <th>sqft_living15</th>\n",
       "      <th>sqft_lot15</th>\n",
       "    </tr>\n",
       "  </thead>\n",
       "  <tbody>\n",
       "    <tr>\n",
       "      <th>price</th>\n",
       "      <td>1.000000</td>\n",
       "      <td>0.478321</td>\n",
       "      <td>0.381190</td>\n",
       "      <td>0.739407</td>\n",
       "      <td>0.360072</td>\n",
       "      <td>-0.135420</td>\n",
       "      <td>0.137684</td>\n",
       "      <td>0.187921</td>\n",
       "      <td>0.421607</td>\n",
       "      <td>0.643256</td>\n",
       "      <td>0.423704</td>\n",
       "      <td>-0.140058</td>\n",
       "      <td>0.527521</td>\n",
       "      <td>0.282328</td>\n",
       "    </tr>\n",
       "    <tr>\n",
       "      <th>bedrooms</th>\n",
       "      <td>0.478321</td>\n",
       "      <td>1.000000</td>\n",
       "      <td>0.470063</td>\n",
       "      <td>0.712013</td>\n",
       "      <td>0.252258</td>\n",
       "      <td>-0.017999</td>\n",
       "      <td>-0.022913</td>\n",
       "      <td>0.088446</td>\n",
       "      <td>0.236438</td>\n",
       "      <td>0.624890</td>\n",
       "      <td>0.383772</td>\n",
       "      <td>-0.046463</td>\n",
       "      <td>0.285577</td>\n",
       "      <td>0.118515</td>\n",
       "    </tr>\n",
       "    <tr>\n",
       "      <th>bathrooms</th>\n",
       "      <td>0.381190</td>\n",
       "      <td>0.470063</td>\n",
       "      <td>1.000000</td>\n",
       "      <td>0.606795</td>\n",
       "      <td>-0.162297</td>\n",
       "      <td>0.500320</td>\n",
       "      <td>0.098186</td>\n",
       "      <td>-0.098595</td>\n",
       "      <td>0.601445</td>\n",
       "      <td>0.570938</td>\n",
       "      <td>0.279162</td>\n",
       "      <td>0.499558</td>\n",
       "      <td>0.133817</td>\n",
       "      <td>-0.237885</td>\n",
       "    </tr>\n",
       "    <tr>\n",
       "      <th>sqft_living</th>\n",
       "      <td>0.739407</td>\n",
       "      <td>0.712013</td>\n",
       "      <td>0.606795</td>\n",
       "      <td>1.000000</td>\n",
       "      <td>0.348737</td>\n",
       "      <td>-0.008094</td>\n",
       "      <td>0.086488</td>\n",
       "      <td>0.151051</td>\n",
       "      <td>0.419485</td>\n",
       "      <td>0.815386</td>\n",
       "      <td>0.633174</td>\n",
       "      <td>0.001057</td>\n",
       "      <td>0.422660</td>\n",
       "      <td>0.195485</td>\n",
       "    </tr>\n",
       "    <tr>\n",
       "      <th>sqft_lot</th>\n",
       "      <td>0.360072</td>\n",
       "      <td>0.252258</td>\n",
       "      <td>-0.162297</td>\n",
       "      <td>0.348737</td>\n",
       "      <td>1.000000</td>\n",
       "      <td>-0.659327</td>\n",
       "      <td>-0.044804</td>\n",
       "      <td>0.336607</td>\n",
       "      <td>-0.282235</td>\n",
       "      <td>0.190707</td>\n",
       "      <td>0.343236</td>\n",
       "      <td>-0.557300</td>\n",
       "      <td>0.252974</td>\n",
       "      <td>0.794980</td>\n",
       "    </tr>\n",
       "    <tr>\n",
       "      <th>floors</th>\n",
       "      <td>-0.135420</td>\n",
       "      <td>-0.017999</td>\n",
       "      <td>0.500320</td>\n",
       "      <td>-0.008094</td>\n",
       "      <td>-0.659327</td>\n",
       "      <td>1.000000</td>\n",
       "      <td>0.079236</td>\n",
       "      <td>-0.397466</td>\n",
       "      <td>0.592364</td>\n",
       "      <td>0.241586</td>\n",
       "      <td>-0.324058</td>\n",
       "      <td>0.828582</td>\n",
       "      <td>-0.169551</td>\n",
       "      <td>-0.665298</td>\n",
       "    </tr>\n",
       "    <tr>\n",
       "      <th>view</th>\n",
       "      <td>0.137684</td>\n",
       "      <td>-0.022913</td>\n",
       "      <td>0.098186</td>\n",
       "      <td>0.086488</td>\n",
       "      <td>-0.044804</td>\n",
       "      <td>0.079236</td>\n",
       "      <td>1.000000</td>\n",
       "      <td>0.000074</td>\n",
       "      <td>0.094561</td>\n",
       "      <td>0.109034</td>\n",
       "      <td>0.008127</td>\n",
       "      <td>0.025705</td>\n",
       "      <td>0.166379</td>\n",
       "      <td>-0.047504</td>\n",
       "    </tr>\n",
       "    <tr>\n",
       "      <th>condition</th>\n",
       "      <td>0.187921</td>\n",
       "      <td>0.088446</td>\n",
       "      <td>-0.098595</td>\n",
       "      <td>0.151051</td>\n",
       "      <td>0.336607</td>\n",
       "      <td>-0.397466</td>\n",
       "      <td>0.000074</td>\n",
       "      <td>1.000000</td>\n",
       "      <td>-0.240495</td>\n",
       "      <td>-0.032984</td>\n",
       "      <td>0.295466</td>\n",
       "      <td>-0.509934</td>\n",
       "      <td>0.074531</td>\n",
       "      <td>0.283977</td>\n",
       "    </tr>\n",
       "    <tr>\n",
       "      <th>grade</th>\n",
       "      <td>0.421607</td>\n",
       "      <td>0.236438</td>\n",
       "      <td>0.601445</td>\n",
       "      <td>0.419485</td>\n",
       "      <td>-0.282235</td>\n",
       "      <td>0.592364</td>\n",
       "      <td>0.094561</td>\n",
       "      <td>-0.240495</td>\n",
       "      <td>1.000000</td>\n",
       "      <td>0.519677</td>\n",
       "      <td>0.042812</td>\n",
       "      <td>0.581752</td>\n",
       "      <td>0.122105</td>\n",
       "      <td>-0.317774</td>\n",
       "    </tr>\n",
       "    <tr>\n",
       "      <th>sqft_above</th>\n",
       "      <td>0.643256</td>\n",
       "      <td>0.624890</td>\n",
       "      <td>0.570938</td>\n",
       "      <td>0.815386</td>\n",
       "      <td>0.190707</td>\n",
       "      <td>0.241586</td>\n",
       "      <td>0.109034</td>\n",
       "      <td>-0.032984</td>\n",
       "      <td>0.519677</td>\n",
       "      <td>1.000000</td>\n",
       "      <td>0.081265</td>\n",
       "      <td>0.156365</td>\n",
       "      <td>0.365989</td>\n",
       "      <td>0.046624</td>\n",
       "    </tr>\n",
       "    <tr>\n",
       "      <th>sqft_basement</th>\n",
       "      <td>0.423704</td>\n",
       "      <td>0.383772</td>\n",
       "      <td>0.279162</td>\n",
       "      <td>0.633174</td>\n",
       "      <td>0.343236</td>\n",
       "      <td>-0.324058</td>\n",
       "      <td>0.008127</td>\n",
       "      <td>0.295466</td>\n",
       "      <td>0.042812</td>\n",
       "      <td>0.081265</td>\n",
       "      <td>1.000000</td>\n",
       "      <td>-0.206368</td>\n",
       "      <td>0.233848</td>\n",
       "      <td>0.270038</td>\n",
       "    </tr>\n",
       "    <tr>\n",
       "      <th>yr_built</th>\n",
       "      <td>-0.140058</td>\n",
       "      <td>-0.046463</td>\n",
       "      <td>0.499558</td>\n",
       "      <td>0.001057</td>\n",
       "      <td>-0.557300</td>\n",
       "      <td>0.828582</td>\n",
       "      <td>0.025705</td>\n",
       "      <td>-0.509934</td>\n",
       "      <td>0.581752</td>\n",
       "      <td>0.156365</td>\n",
       "      <td>-0.206368</td>\n",
       "      <td>1.000000</td>\n",
       "      <td>-0.221571</td>\n",
       "      <td>-0.541608</td>\n",
       "    </tr>\n",
       "    <tr>\n",
       "      <th>sqft_living15</th>\n",
       "      <td>0.527521</td>\n",
       "      <td>0.285577</td>\n",
       "      <td>0.133817</td>\n",
       "      <td>0.422660</td>\n",
       "      <td>0.252974</td>\n",
       "      <td>-0.169551</td>\n",
       "      <td>0.166379</td>\n",
       "      <td>0.074531</td>\n",
       "      <td>0.122105</td>\n",
       "      <td>0.365989</td>\n",
       "      <td>0.233848</td>\n",
       "      <td>-0.221571</td>\n",
       "      <td>1.000000</td>\n",
       "      <td>0.282692</td>\n",
       "    </tr>\n",
       "    <tr>\n",
       "      <th>sqft_lot15</th>\n",
       "      <td>0.282328</td>\n",
       "      <td>0.118515</td>\n",
       "      <td>-0.237885</td>\n",
       "      <td>0.195485</td>\n",
       "      <td>0.794980</td>\n",
       "      <td>-0.665298</td>\n",
       "      <td>-0.047504</td>\n",
       "      <td>0.283977</td>\n",
       "      <td>-0.317774</td>\n",
       "      <td>0.046624</td>\n",
       "      <td>0.270038</td>\n",
       "      <td>-0.541608</td>\n",
       "      <td>0.282692</td>\n",
       "      <td>1.000000</td>\n",
       "    </tr>\n",
       "  </tbody>\n",
       "</table>\n",
       "</div>"
      ],
      "text/plain": [
       "                  price  bedrooms  bathrooms  sqft_living  sqft_lot    floors  \\\n",
       "price          1.000000  0.478321   0.381190     0.739407  0.360072 -0.135420   \n",
       "bedrooms       0.478321  1.000000   0.470063     0.712013  0.252258 -0.017999   \n",
       "bathrooms      0.381190  0.470063   1.000000     0.606795 -0.162297  0.500320   \n",
       "sqft_living    0.739407  0.712013   0.606795     1.000000  0.348737 -0.008094   \n",
       "sqft_lot       0.360072  0.252258  -0.162297     0.348737  1.000000 -0.659327   \n",
       "floors        -0.135420 -0.017999   0.500320    -0.008094 -0.659327  1.000000   \n",
       "view           0.137684 -0.022913   0.098186     0.086488 -0.044804  0.079236   \n",
       "condition      0.187921  0.088446  -0.098595     0.151051  0.336607 -0.397466   \n",
       "grade          0.421607  0.236438   0.601445     0.419485 -0.282235  0.592364   \n",
       "sqft_above     0.643256  0.624890   0.570938     0.815386  0.190707  0.241586   \n",
       "sqft_basement  0.423704  0.383772   0.279162     0.633174  0.343236 -0.324058   \n",
       "yr_built      -0.140058 -0.046463   0.499558     0.001057 -0.557300  0.828582   \n",
       "sqft_living15  0.527521  0.285577   0.133817     0.422660  0.252974 -0.169551   \n",
       "sqft_lot15     0.282328  0.118515  -0.237885     0.195485  0.794980 -0.665298   \n",
       "\n",
       "                   view  condition     grade  sqft_above  sqft_basement  \\\n",
       "price          0.137684   0.187921  0.421607    0.643256       0.423704   \n",
       "bedrooms      -0.022913   0.088446  0.236438    0.624890       0.383772   \n",
       "bathrooms      0.098186  -0.098595  0.601445    0.570938       0.279162   \n",
       "sqft_living    0.086488   0.151051  0.419485    0.815386       0.633174   \n",
       "sqft_lot      -0.044804   0.336607 -0.282235    0.190707       0.343236   \n",
       "floors         0.079236  -0.397466  0.592364    0.241586      -0.324058   \n",
       "view           1.000000   0.000074  0.094561    0.109034       0.008127   \n",
       "condition      0.000074   1.000000 -0.240495   -0.032984       0.295466   \n",
       "grade          0.094561  -0.240495  1.000000    0.519677       0.042812   \n",
       "sqft_above     0.109034  -0.032984  0.519677    1.000000       0.081265   \n",
       "sqft_basement  0.008127   0.295466  0.042812    0.081265       1.000000   \n",
       "yr_built       0.025705  -0.509934  0.581752    0.156365      -0.206368   \n",
       "sqft_living15  0.166379   0.074531  0.122105    0.365989       0.233848   \n",
       "sqft_lot15    -0.047504   0.283977 -0.317774    0.046624       0.270038   \n",
       "\n",
       "               yr_built  sqft_living15  sqft_lot15  \n",
       "price         -0.140058       0.527521    0.282328  \n",
       "bedrooms      -0.046463       0.285577    0.118515  \n",
       "bathrooms      0.499558       0.133817   -0.237885  \n",
       "sqft_living    0.001057       0.422660    0.195485  \n",
       "sqft_lot      -0.557300       0.252974    0.794980  \n",
       "floors         0.828582      -0.169551   -0.665298  \n",
       "view           0.025705       0.166379   -0.047504  \n",
       "condition     -0.509934       0.074531    0.283977  \n",
       "grade          0.581752       0.122105   -0.317774  \n",
       "sqft_above     0.156365       0.365989    0.046624  \n",
       "sqft_basement -0.206368       0.233848    0.270038  \n",
       "yr_built       1.000000      -0.221571   -0.541608  \n",
       "sqft_living15 -0.221571       1.000000    0.282692  \n",
       "sqft_lot15    -0.541608       0.282692    1.000000  "
      ]
     },
     "execution_count": 180,
     "metadata": {},
     "output_type": "execute_result"
    }
   ],
   "source": [
    "subset_df.corr()"
   ]
  },
  {
   "cell_type": "code",
   "execution_count": 185,
   "metadata": {},
   "outputs": [
    {
     "data": {
      "text/plain": [
       "-0.05340243437772481"
      ]
     },
     "execution_count": 185,
     "metadata": {},
     "output_type": "execute_result"
    }
   ],
   "source": [
    "housing_df['price'].corr(housing_df['zipcode'])"
   ]
  },
  {
   "cell_type": "code",
   "execution_count": null,
   "metadata": {},
   "outputs": [],
   "source": [
    "#housing_df = housing_df[np.isfinite(housing_df['view'])]"
   ]
  }
 ],
 "metadata": {
  "kernelspec": {
   "display_name": "Python 3",
   "language": "python",
   "name": "python3"
  },
  "language_info": {
   "codemirror_mode": {
    "name": "ipython",
    "version": 3
   },
   "file_extension": ".py",
   "mimetype": "text/x-python",
   "name": "python",
   "nbconvert_exporter": "python",
   "pygments_lexer": "ipython3",
   "version": "3.7.3"
  }
 },
 "nbformat": 4,
 "nbformat_minor": 2
}
